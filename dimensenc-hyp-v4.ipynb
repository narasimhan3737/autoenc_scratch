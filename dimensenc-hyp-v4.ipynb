{
 "cells": [
  {
   "cell_type": "code",
   "execution_count": 1,
   "metadata": {},
   "outputs": [
    {
     "name": "stderr",
     "output_type": "stream",
     "text": [
      "/home/han/.local/lib/python3.8/site-packages/tqdm/auto.py:22: TqdmWarning: IProgress not found. Please update jupyter and ipywidgets. See https://ipywidgets.readthedocs.io/en/stable/user_install.html\n",
      "  from .autonotebook import tqdm as notebook_tqdm\n"
     ]
    }
   ],
   "source": [
    "\n",
    "import numpy as np\n",
    "import matplotlib.pyplot as plt\n",
    "import torch as T\n",
    "import pickle\n",
    "device = T.device(\"cuda\")  # apply to Tensor or Module\n",
    "import matplotlib.pyplot as plt\n",
    "from os import listdir\n",
    "from os.path import isfile, join\n",
    "import glob\n",
    "path = \"/mnt/d/Work/Dissertation/Preprocessing/VNIR-Field1/\"\n",
    "#onlyfiles = [ f for f in listdir(path) if isfile(join(path,f)) ]\n",
    "import torch\n",
    "import struct\n",
    "import numpy as np\n",
    "from PIL import Image\n",
    "import os\n",
    "import matplotlib.pyplot as plt\n",
    "#from torchvision.transforms import ToTensor\n",
    "from tqdm import tqdm\n",
    "import time"
   ]
  },
  {
   "cell_type": "code",
   "execution_count": 2,
   "metadata": {},
   "outputs": [],
   "source": [
    "def force_cudnn_initialization():\n",
    "    s = 32\n",
    "    dev = torch.device('cuda')\n",
    "    torch.nn.functional.conv2d(torch.zeros(s, s, s, s, device=dev), torch.zeros(s, s, s, s, device=dev))"
   ]
  },
  {
   "cell_type": "code",
   "execution_count": 3,
   "metadata": {},
   "outputs": [],
   "source": [
    "with open(\"dataTrain.pickle\",\"rb\") as f:\n",
    "    crop_images=pickle.load(f)\n",
    "    crop_images=torch.tensor(crop_images.astype(np.float32))"
   ]
  },
  {
   "cell_type": "code",
   "execution_count": 4,
   "metadata": {},
   "outputs": [
    {
     "data": {
      "text/plain": [
       "torch.Size([1, 103])"
      ]
     },
     "execution_count": 4,
     "metadata": {},
     "output_type": "execute_result"
    }
   ],
   "source": [
    "# -----------------------------------------------------------\n",
    "\n",
    "class Net(T.nn.Module):\n",
    "  def __init__(self):\n",
    "    super(Net, self).__init__()\n",
    "    self.enn1 = T.nn.Linear(103, 50)  # 64-16-2-16-64\n",
    "    self.enn2 = T.nn.Linear(50, 30)\n",
    "    self.enn3 = T.nn.Linear(30,10)\n",
    "    self.dnn3 = T.nn.Linear(10, 30)  # 64-16-2-16-64\n",
    "    self.dnn2 = T.nn.Linear(30, 50)\n",
    "    self.dnn1 = T.nn.Linear(50,103)\n",
    "\n",
    "  def encoder(self,x):\n",
    "    z= T.relu(self.enn1(x))\n",
    "    z= T.relu(self.enn2(z))\n",
    "    z= T.relu(self.enn3(z))\n",
    "    return z\n",
    "  \n",
    "  def decoder(self,x):\n",
    "    z= T.relu(self.dnn3(x))\n",
    "    z= T.relu(self.dnn2(z))\n",
    "    z= self.dnn1(z)\n",
    "    return z\n",
    "\n",
    "\n",
    "  def forward(self, x):\n",
    "    z=self.encoder(x)\n",
    "    z= self.decoder(z)\n",
    "    \n",
    "    return z\n",
    "net=Net().to(device)\n",
    "inpu=torch.rand(1,103).to(device)\n",
    "outp=net(inpu)\n",
    "outp.shape\n"
   ]
  },
  {
   "cell_type": "code",
   "execution_count": 5,
   "metadata": {},
   "outputs": [
    {
     "name": "stdout",
     "output_type": "stream",
     "text": [
      "\n",
      "Begin UCI digits auto-reduce-viz demo job \n",
      "\n",
      "Creating 64-16-2-16-63 autoencoder \n",
      "\n",
      "bat_size = 4096 \n",
      "loss = L1Loss()\n",
      "optimizer = Adam\n",
      "max_epochs = 1800 \n",
      "lrn_rate = 0.000 \n",
      "\n",
      "Starting training\n"
     ]
    },
    {
     "name": "stderr",
     "output_type": "stream",
     "text": [
      "Epoch [0/1800]: 100%|██████████| 49/49 [00:01<00:00, 32.97it/s, loss=6516685.6953125, mseloss=8.232567742466927] \n",
      "Epoch [1/1800]: 100%|██████████| 49/49 [00:01<00:00, 43.71it/s, loss=6099754.203125, mseloss=7.504661604762077]  \n",
      "Epoch [2/1800]: 100%|██████████| 49/49 [00:01<00:00, 44.24it/s, loss=5448249.7734375, mseloss=6.332682244479656] \n"
     ]
    },
    {
     "ename": "KeyboardInterrupt",
     "evalue": "",
     "output_type": "error",
     "traceback": [
      "\u001b[1;31m---------------------------------------------------------------------------\u001b[0m",
      "\u001b[1;31mKeyboardInterrupt\u001b[0m                         Traceback (most recent call last)",
      "\u001b[1;32md:\\Work\\Autoenc\\hyperspectral-autoencoders-master\\hyperspectral-autoencoders-master\\dimensenc-hyp-v4.ipynb Cell 5'\u001b[0m in \u001b[0;36m<cell line: 35>\u001b[1;34m()\u001b[0m\n\u001b[0;32m     <a href='vscode-notebook-cell:/d%3A/Work/Autoenc/hyperspectral-autoencoders-master/hyperspectral-autoencoders-master/dimensenc-hyp-v4.ipynb#ch0000004?line=31'>32</a>\u001b[0m net \u001b[39m=\u001b[39m net\u001b[39m.\u001b[39mtrain()\n\u001b[0;32m     <a href='vscode-notebook-cell:/d%3A/Work/Autoenc/hyperspectral-autoencoders-master/hyperspectral-autoencoders-master/dimensenc-hyp-v4.ipynb#ch0000004?line=34'>35</a>\u001b[0m \u001b[39mfor\u001b[39;00m epoch \u001b[39min\u001b[39;00m \u001b[39mrange\u001b[39m(\u001b[39m0\u001b[39m, max_epochs):\n\u001b[1;32m---> <a href='vscode-notebook-cell:/d%3A/Work/Autoenc/hyperspectral-autoencoders-master/hyperspectral-autoencoders-master/dimensenc-hyp-v4.ipynb#ch0000004?line=35'>36</a>\u001b[0m   time\u001b[39m.\u001b[39;49msleep(\u001b[39m2\u001b[39;49m)\n\u001b[0;32m     <a href='vscode-notebook-cell:/d%3A/Work/Autoenc/hyperspectral-autoencoders-master/hyperspectral-autoencoders-master/dimensenc-hyp-v4.ipynb#ch0000004?line=36'>37</a>\u001b[0m   loop\u001b[39m=\u001b[39m tqdm(\u001b[39menumerate\u001b[39m(train_ldr), total\u001b[39m=\u001b[39m\u001b[39mlen\u001b[39m(train_ldr),leave\u001b[39m=\u001b[39m\u001b[39mTrue\u001b[39;00m)\n\u001b[0;32m     <a href='vscode-notebook-cell:/d%3A/Work/Autoenc/hyperspectral-autoencoders-master/hyperspectral-autoencoders-master/dimensenc-hyp-v4.ipynb#ch0000004?line=37'>38</a>\u001b[0m   epoch_loss \u001b[39m=\u001b[39m \u001b[39m0\u001b[39m  \u001b[39m# for one full epoch\u001b[39;00m\n",
      "\u001b[1;31mKeyboardInterrupt\u001b[0m: "
     ]
    }
   ],
   "source": [
    "# -----------------------------------------------------------\n",
    "\n",
    "force_cudnn_initialization()\n",
    "# 0. setup\n",
    "print(\"\\nBegin UCI digits auto-reduce-viz demo job \")\n",
    "T.manual_seed(1)\n",
    "np.random.seed(1)\n",
    "\n",
    "bat_size = 4096\n",
    "train_ldr = T.utils.data.DataLoader(crop_images,\n",
    "batch_size=bat_size, shuffle=True)\n",
    "  # 2. create network\n",
    "print(\"\\nCreating 64-16-2-16-63 autoencoder \")\n",
    "net = Net().to(\"cuda:0\")\n",
    "\n",
    "# 3. train model\n",
    "max_epochs = 1800\n",
    "ep_log_interval = 10\n",
    "lrn_rate = 0.0001\n",
    "\n",
    "loss_func1 = T.nn.MSELoss()\n",
    "loss_func = T.nn.L1Loss(reduction='sum')\n",
    "optimizer = T.optim.Adam(net.parameters(), lr=lrn_rate)\n",
    "\n",
    "print(\"\\nbat_size = %3d \" % bat_size)\n",
    "print(\"loss = \" + str(loss_func))\n",
    "print(\"optimizer = Adam\")\n",
    "print(\"max_epochs = %3d \" % max_epochs)\n",
    "print(\"lrn_rate = %0.3f \" % lrn_rate)\n",
    "\n",
    "print(\"\\nStarting training\")\n",
    "net = net.train()\n",
    "\n",
    "\n",
    "for epoch in range(0, max_epochs):\n",
    "  time.sleep(2)\n",
    "  loop= tqdm(enumerate(train_ldr), total=len(train_ldr),leave=True)\n",
    "  epoch_loss = 0  # for one full epoch\n",
    "  mseloss=0\n",
    "  for (batch_idx, batch) in loop:\n",
    "    X = batch.to(device)  # no targets needed\n",
    "\n",
    "    optimizer.zero_grad()\n",
    "    oupt = net(X)\n",
    "    loss_obj = loss_func(oupt, X)  # note: X not Y\n",
    "    loss_obj1=loss_func1(oupt,X)\n",
    "    epoch_loss += loss_obj.item()  # accumulate\n",
    "    mseloss+=loss_obj1.item()\n",
    "    loss_obj.backward()\n",
    "    optimizer.step()\n",
    "\n",
    "    loop.set_description(f\"Epoch [{epoch}/{max_epochs}]\")\n",
    "    loop.set_postfix(loss=str(epoch_loss),mseloss=str(mseloss))\n",
    "\"\"\"\n",
    "  if epoch % ep_log_interval == 0:\n",
    "    print(\"epoch = %4d   loss = %0.4f\" % (epoch, epoch_loss)) \n",
    "print(\"Done \")\"\"\"\n",
    "\n",
    "# 4. plot digits using reduced form\n",
    "print(\"\\nCreating graph from encoded data \")\n",
    "net = net.eval()\n",
    "\n",
    "\n",
    "\n"
   ]
  },
  {
   "cell_type": "code",
   "execution_count": 7,
   "metadata": {},
   "outputs": [],
   "source": [
    "#torch.save(net.state_dict(), 'hari_model_sample.pth')\n",
    "torch.save(net, 'hari_model_2041.pth')"
   ]
  },
  {
   "cell_type": "code",
   "execution_count": 8,
   "metadata": {},
   "outputs": [
    {
     "data": {
      "text/plain": [
       "(torch.Size([3392, 103]), torch.Size([3392, 103]))"
      ]
     },
     "execution_count": 8,
     "metadata": {},
     "output_type": "execute_result"
    }
   ],
   "source": [
    "oupt.shape,X.shape"
   ]
  },
  {
   "cell_type": "code",
   "execution_count": 9,
   "metadata": {},
   "outputs": [
    {
     "ename": "AttributeError",
     "evalue": "'Net' object has no attribute 'copy'",
     "output_type": "error",
     "traceback": [
      "\u001b[1;31m---------------------------------------------------------------------------\u001b[0m",
      "\u001b[1;31mAttributeError\u001b[0m                            Traceback (most recent call last)",
      "\u001b[1;32md:\\Work\\Autoenc\\hyperspectral-autoencoders-master\\hyperspectral-autoencoders-master\\dimensenc-hyp-v4.ipynb Cell 8'\u001b[0m in \u001b[0;36m<cell line: 3>\u001b[1;34m()\u001b[0m\n\u001b[0;32m      <a href='vscode-notebook-cell:/d%3A/Work/Autoenc/hyperspectral-autoencoders-master/hyperspectral-autoencoders-master/dimensenc-hyp-v4.ipynb#ch0000007?line=0'>1</a>\u001b[0m \u001b[39m#net = torch.load('hari_model_2041.pth')\u001b[39;00m\n\u001b[0;32m      <a href='vscode-notebook-cell:/d%3A/Work/Autoenc/hyperspectral-autoencoders-master/hyperspectral-autoencoders-master/dimensenc-hyp-v4.ipynb#ch0000007?line=1'>2</a>\u001b[0m net\u001b[39m=\u001b[39mNet()\n\u001b[1;32m----> <a href='vscode-notebook-cell:/d%3A/Work/Autoenc/hyperspectral-autoencoders-master/hyperspectral-autoencoders-master/dimensenc-hyp-v4.ipynb#ch0000007?line=2'>3</a>\u001b[0m net\u001b[39m.\u001b[39;49mload_state_dict(torch\u001b[39m.\u001b[39;49mload(\u001b[39m'\u001b[39;49m\u001b[39mhari_model_2041.pth\u001b[39;49m\u001b[39m'\u001b[39;49m))\n\u001b[0;32m      <a href='vscode-notebook-cell:/d%3A/Work/Autoenc/hyperspectral-autoencoders-master/hyperspectral-autoencoders-master/dimensenc-hyp-v4.ipynb#ch0000007?line=3'>4</a>\u001b[0m net\u001b[39m.\u001b[39mto(device)\n",
      "File \u001b[1;32mc:\\Users\\naras\\AppData\\Local\\Programs\\Python\\Python310\\lib\\site-packages\\torch\\nn\\modules\\module.py:1470\u001b[0m, in \u001b[0;36mModule.load_state_dict\u001b[1;34m(self, state_dict, strict)\u001b[0m\n\u001b[0;32m   <a href='file:///c%3A/Users/naras/AppData/Local/Programs/Python/Python310/lib/site-packages/torch/nn/modules/module.py?line=1467'>1468</a>\u001b[0m \u001b[39m# copy state_dict so _load_from_state_dict can modify it\u001b[39;00m\n\u001b[0;32m   <a href='file:///c%3A/Users/naras/AppData/Local/Programs/Python/Python310/lib/site-packages/torch/nn/modules/module.py?line=1468'>1469</a>\u001b[0m metadata \u001b[39m=\u001b[39m \u001b[39mgetattr\u001b[39m(state_dict, \u001b[39m'\u001b[39m\u001b[39m_metadata\u001b[39m\u001b[39m'\u001b[39m, \u001b[39mNone\u001b[39;00m)\n\u001b[1;32m-> <a href='file:///c%3A/Users/naras/AppData/Local/Programs/Python/Python310/lib/site-packages/torch/nn/modules/module.py?line=1469'>1470</a>\u001b[0m state_dict \u001b[39m=\u001b[39m state_dict\u001b[39m.\u001b[39;49mcopy()\n\u001b[0;32m   <a href='file:///c%3A/Users/naras/AppData/Local/Programs/Python/Python310/lib/site-packages/torch/nn/modules/module.py?line=1470'>1471</a>\u001b[0m \u001b[39mif\u001b[39;00m metadata \u001b[39mis\u001b[39;00m \u001b[39mnot\u001b[39;00m \u001b[39mNone\u001b[39;00m:\n\u001b[0;32m   <a href='file:///c%3A/Users/naras/AppData/Local/Programs/Python/Python310/lib/site-packages/torch/nn/modules/module.py?line=1471'>1472</a>\u001b[0m     \u001b[39m# mypy isn't aware that \"_metadata\" exists in state_dict\u001b[39;00m\n\u001b[0;32m   <a href='file:///c%3A/Users/naras/AppData/Local/Programs/Python/Python310/lib/site-packages/torch/nn/modules/module.py?line=1472'>1473</a>\u001b[0m     state_dict\u001b[39m.\u001b[39m_metadata \u001b[39m=\u001b[39m metadata  \u001b[39m# type: ignore[attr-defined]\u001b[39;00m\n",
      "File \u001b[1;32mc:\\Users\\naras\\AppData\\Local\\Programs\\Python\\Python310\\lib\\site-packages\\torch\\nn\\modules\\module.py:1185\u001b[0m, in \u001b[0;36mModule.__getattr__\u001b[1;34m(self, name)\u001b[0m\n\u001b[0;32m   <a href='file:///c%3A/Users/naras/AppData/Local/Programs/Python/Python310/lib/site-packages/torch/nn/modules/module.py?line=1182'>1183</a>\u001b[0m     \u001b[39mif\u001b[39;00m name \u001b[39min\u001b[39;00m modules:\n\u001b[0;32m   <a href='file:///c%3A/Users/naras/AppData/Local/Programs/Python/Python310/lib/site-packages/torch/nn/modules/module.py?line=1183'>1184</a>\u001b[0m         \u001b[39mreturn\u001b[39;00m modules[name]\n\u001b[1;32m-> <a href='file:///c%3A/Users/naras/AppData/Local/Programs/Python/Python310/lib/site-packages/torch/nn/modules/module.py?line=1184'>1185</a>\u001b[0m \u001b[39mraise\u001b[39;00m \u001b[39mAttributeError\u001b[39;00m(\u001b[39m\"\u001b[39m\u001b[39m'\u001b[39m\u001b[39m{}\u001b[39;00m\u001b[39m'\u001b[39m\u001b[39m object has no attribute \u001b[39m\u001b[39m'\u001b[39m\u001b[39m{}\u001b[39;00m\u001b[39m'\u001b[39m\u001b[39m\"\u001b[39m\u001b[39m.\u001b[39mformat(\n\u001b[0;32m   <a href='file:///c%3A/Users/naras/AppData/Local/Programs/Python/Python310/lib/site-packages/torch/nn/modules/module.py?line=1185'>1186</a>\u001b[0m     \u001b[39mtype\u001b[39m(\u001b[39mself\u001b[39m)\u001b[39m.\u001b[39m\u001b[39m__name__\u001b[39m, name))\n",
      "\u001b[1;31mAttributeError\u001b[0m: 'Net' object has no attribute 'copy'"
     ]
    }
   ],
   "source": [
    "#net = torch.load('hari_model_2041.pth')\n",
    "net=Net()\n",
    "net.load_state_dict(torch.load('hari_model_2041.pth'))\n",
    "net.to(device)"
   ]
  },
  {
   "cell_type": "code",
   "execution_count": 7,
   "metadata": {},
   "outputs": [
    {
     "ename": "TypeError",
     "evalue": "Invalid shape () for image data",
     "output_type": "error",
     "traceback": [
      "\u001b[1;31m---------------------------------------------------------------------------\u001b[0m",
      "\u001b[1;31mTypeError\u001b[0m                                 Traceback (most recent call last)",
      "\u001b[1;32md:\\Work\\Autoenc\\hyperspectral-autoencoders-master\\hyperspectral-autoencoders-master\\dimensenc-hyp-v4.ipynb Cell 9'\u001b[0m in \u001b[0;36m<cell line: 4>\u001b[1;34m()\u001b[0m\n\u001b[0;32m      <a href='vscode-notebook-cell:/d%3A/Work/Autoenc/hyperspectral-autoencoders-master/hyperspectral-autoencoders-master/dimensenc-hyp-v4.ipynb#ch0000008?line=1'>2</a>\u001b[0m     \u001b[39mbreak\u001b[39;00m\n\u001b[0;32m      <a href='vscode-notebook-cell:/d%3A/Work/Autoenc/hyperspectral-autoencoders-master/hyperspectral-autoencoders-master/dimensenc-hyp-v4.ipynb#ch0000008?line=2'>3</a>\u001b[0m out\u001b[39m=\u001b[39mnet(i\u001b[39m.\u001b[39mto(device))\n\u001b[1;32m----> <a href='vscode-notebook-cell:/d%3A/Work/Autoenc/hyperspectral-autoencoders-master/hyperspectral-autoencoders-master/dimensenc-hyp-v4.ipynb#ch0000008?line=3'>4</a>\u001b[0m plt\u001b[39m.\u001b[39;49mimshow(i[\u001b[39m1\u001b[39;49m][\u001b[39m0\u001b[39;49m])\n",
      "File \u001b[1;32mc:\\Users\\naras\\AppData\\Local\\Programs\\Python\\Python310\\lib\\site-packages\\matplotlib\\_api\\deprecation.py:459\u001b[0m, in \u001b[0;36mmake_keyword_only.<locals>.wrapper\u001b[1;34m(*args, **kwargs)\u001b[0m\n\u001b[0;32m    <a href='file:///c%3A/Users/naras/AppData/Local/Programs/Python/Python310/lib/site-packages/matplotlib/_api/deprecation.py?line=452'>453</a>\u001b[0m \u001b[39mif\u001b[39;00m \u001b[39mlen\u001b[39m(args) \u001b[39m>\u001b[39m name_idx:\n\u001b[0;32m    <a href='file:///c%3A/Users/naras/AppData/Local/Programs/Python/Python310/lib/site-packages/matplotlib/_api/deprecation.py?line=453'>454</a>\u001b[0m     warn_deprecated(\n\u001b[0;32m    <a href='file:///c%3A/Users/naras/AppData/Local/Programs/Python/Python310/lib/site-packages/matplotlib/_api/deprecation.py?line=454'>455</a>\u001b[0m         since, message\u001b[39m=\u001b[39m\u001b[39m\"\u001b[39m\u001b[39mPassing the \u001b[39m\u001b[39m%(name)s\u001b[39;00m\u001b[39m \u001b[39m\u001b[39m%(obj_type)s\u001b[39;00m\u001b[39m \u001b[39m\u001b[39m\"\u001b[39m\n\u001b[0;32m    <a href='file:///c%3A/Users/naras/AppData/Local/Programs/Python/Python310/lib/site-packages/matplotlib/_api/deprecation.py?line=455'>456</a>\u001b[0m         \u001b[39m\"\u001b[39m\u001b[39mpositionally is deprecated since Matplotlib \u001b[39m\u001b[39m%(since)s\u001b[39;00m\u001b[39m; the \u001b[39m\u001b[39m\"\u001b[39m\n\u001b[0;32m    <a href='file:///c%3A/Users/naras/AppData/Local/Programs/Python/Python310/lib/site-packages/matplotlib/_api/deprecation.py?line=456'>457</a>\u001b[0m         \u001b[39m\"\u001b[39m\u001b[39mparameter will become keyword-only \u001b[39m\u001b[39m%(removal)s\u001b[39;00m\u001b[39m.\u001b[39m\u001b[39m\"\u001b[39m,\n\u001b[0;32m    <a href='file:///c%3A/Users/naras/AppData/Local/Programs/Python/Python310/lib/site-packages/matplotlib/_api/deprecation.py?line=457'>458</a>\u001b[0m         name\u001b[39m=\u001b[39mname, obj_type\u001b[39m=\u001b[39m\u001b[39mf\u001b[39m\u001b[39m\"\u001b[39m\u001b[39mparameter of \u001b[39m\u001b[39m{\u001b[39;00mfunc\u001b[39m.\u001b[39m\u001b[39m__name__\u001b[39m\u001b[39m}\u001b[39;00m\u001b[39m()\u001b[39m\u001b[39m\"\u001b[39m)\n\u001b[1;32m--> <a href='file:///c%3A/Users/naras/AppData/Local/Programs/Python/Python310/lib/site-packages/matplotlib/_api/deprecation.py?line=458'>459</a>\u001b[0m \u001b[39mreturn\u001b[39;00m func(\u001b[39m*\u001b[39margs, \u001b[39m*\u001b[39m\u001b[39m*\u001b[39mkwargs)\n",
      "File \u001b[1;32mc:\\Users\\naras\\AppData\\Local\\Programs\\Python\\Python310\\lib\\site-packages\\matplotlib\\pyplot.py:2652\u001b[0m, in \u001b[0;36mimshow\u001b[1;34m(X, cmap, norm, aspect, interpolation, alpha, vmin, vmax, origin, extent, interpolation_stage, filternorm, filterrad, resample, url, data, **kwargs)\u001b[0m\n\u001b[0;32m   <a href='file:///c%3A/Users/naras/AppData/Local/Programs/Python/Python310/lib/site-packages/matplotlib/pyplot.py?line=2645'>2646</a>\u001b[0m \u001b[39m@_copy_docstring_and_deprecators\u001b[39m(Axes\u001b[39m.\u001b[39mimshow)\n\u001b[0;32m   <a href='file:///c%3A/Users/naras/AppData/Local/Programs/Python/Python310/lib/site-packages/matplotlib/pyplot.py?line=2646'>2647</a>\u001b[0m \u001b[39mdef\u001b[39;00m \u001b[39mimshow\u001b[39m(\n\u001b[0;32m   <a href='file:///c%3A/Users/naras/AppData/Local/Programs/Python/Python310/lib/site-packages/matplotlib/pyplot.py?line=2647'>2648</a>\u001b[0m         X, cmap\u001b[39m=\u001b[39m\u001b[39mNone\u001b[39;00m, norm\u001b[39m=\u001b[39m\u001b[39mNone\u001b[39;00m, aspect\u001b[39m=\u001b[39m\u001b[39mNone\u001b[39;00m, interpolation\u001b[39m=\u001b[39m\u001b[39mNone\u001b[39;00m,\n\u001b[0;32m   <a href='file:///c%3A/Users/naras/AppData/Local/Programs/Python/Python310/lib/site-packages/matplotlib/pyplot.py?line=2648'>2649</a>\u001b[0m         alpha\u001b[39m=\u001b[39m\u001b[39mNone\u001b[39;00m, vmin\u001b[39m=\u001b[39m\u001b[39mNone\u001b[39;00m, vmax\u001b[39m=\u001b[39m\u001b[39mNone\u001b[39;00m, origin\u001b[39m=\u001b[39m\u001b[39mNone\u001b[39;00m, extent\u001b[39m=\u001b[39m\u001b[39mNone\u001b[39;00m, \u001b[39m*\u001b[39m,\n\u001b[0;32m   <a href='file:///c%3A/Users/naras/AppData/Local/Programs/Python/Python310/lib/site-packages/matplotlib/pyplot.py?line=2649'>2650</a>\u001b[0m         interpolation_stage\u001b[39m=\u001b[39m\u001b[39mNone\u001b[39;00m, filternorm\u001b[39m=\u001b[39m\u001b[39mTrue\u001b[39;00m, filterrad\u001b[39m=\u001b[39m\u001b[39m4.0\u001b[39m,\n\u001b[0;32m   <a href='file:///c%3A/Users/naras/AppData/Local/Programs/Python/Python310/lib/site-packages/matplotlib/pyplot.py?line=2650'>2651</a>\u001b[0m         resample\u001b[39m=\u001b[39m\u001b[39mNone\u001b[39;00m, url\u001b[39m=\u001b[39m\u001b[39mNone\u001b[39;00m, data\u001b[39m=\u001b[39m\u001b[39mNone\u001b[39;00m, \u001b[39m*\u001b[39m\u001b[39m*\u001b[39mkwargs):\n\u001b[1;32m-> <a href='file:///c%3A/Users/naras/AppData/Local/Programs/Python/Python310/lib/site-packages/matplotlib/pyplot.py?line=2651'>2652</a>\u001b[0m     __ret \u001b[39m=\u001b[39m gca()\u001b[39m.\u001b[39mimshow(\n\u001b[0;32m   <a href='file:///c%3A/Users/naras/AppData/Local/Programs/Python/Python310/lib/site-packages/matplotlib/pyplot.py?line=2652'>2653</a>\u001b[0m         X, cmap\u001b[39m=\u001b[39mcmap, norm\u001b[39m=\u001b[39mnorm, aspect\u001b[39m=\u001b[39maspect,\n\u001b[0;32m   <a href='file:///c%3A/Users/naras/AppData/Local/Programs/Python/Python310/lib/site-packages/matplotlib/pyplot.py?line=2653'>2654</a>\u001b[0m         interpolation\u001b[39m=\u001b[39minterpolation, alpha\u001b[39m=\u001b[39malpha, vmin\u001b[39m=\u001b[39mvmin,\n\u001b[0;32m   <a href='file:///c%3A/Users/naras/AppData/Local/Programs/Python/Python310/lib/site-packages/matplotlib/pyplot.py?line=2654'>2655</a>\u001b[0m         vmax\u001b[39m=\u001b[39mvmax, origin\u001b[39m=\u001b[39morigin, extent\u001b[39m=\u001b[39mextent,\n\u001b[0;32m   <a href='file:///c%3A/Users/naras/AppData/Local/Programs/Python/Python310/lib/site-packages/matplotlib/pyplot.py?line=2655'>2656</a>\u001b[0m         interpolation_stage\u001b[39m=\u001b[39minterpolation_stage,\n\u001b[0;32m   <a href='file:///c%3A/Users/naras/AppData/Local/Programs/Python/Python310/lib/site-packages/matplotlib/pyplot.py?line=2656'>2657</a>\u001b[0m         filternorm\u001b[39m=\u001b[39mfilternorm, filterrad\u001b[39m=\u001b[39mfilterrad, resample\u001b[39m=\u001b[39mresample,\n\u001b[0;32m   <a href='file:///c%3A/Users/naras/AppData/Local/Programs/Python/Python310/lib/site-packages/matplotlib/pyplot.py?line=2657'>2658</a>\u001b[0m         url\u001b[39m=\u001b[39murl, \u001b[39m*\u001b[39m\u001b[39m*\u001b[39m({\u001b[39m\"\u001b[39m\u001b[39mdata\u001b[39m\u001b[39m\"\u001b[39m: data} \u001b[39mif\u001b[39;00m data \u001b[39mis\u001b[39;00m \u001b[39mnot\u001b[39;00m \u001b[39mNone\u001b[39;00m \u001b[39melse\u001b[39;00m {}),\n\u001b[0;32m   <a href='file:///c%3A/Users/naras/AppData/Local/Programs/Python/Python310/lib/site-packages/matplotlib/pyplot.py?line=2658'>2659</a>\u001b[0m         \u001b[39m*\u001b[39m\u001b[39m*\u001b[39mkwargs)\n\u001b[0;32m   <a href='file:///c%3A/Users/naras/AppData/Local/Programs/Python/Python310/lib/site-packages/matplotlib/pyplot.py?line=2659'>2660</a>\u001b[0m     sci(__ret)\n\u001b[0;32m   <a href='file:///c%3A/Users/naras/AppData/Local/Programs/Python/Python310/lib/site-packages/matplotlib/pyplot.py?line=2660'>2661</a>\u001b[0m     \u001b[39mreturn\u001b[39;00m __ret\n",
      "File \u001b[1;32mc:\\Users\\naras\\AppData\\Local\\Programs\\Python\\Python310\\lib\\site-packages\\matplotlib\\_api\\deprecation.py:459\u001b[0m, in \u001b[0;36mmake_keyword_only.<locals>.wrapper\u001b[1;34m(*args, **kwargs)\u001b[0m\n\u001b[0;32m    <a href='file:///c%3A/Users/naras/AppData/Local/Programs/Python/Python310/lib/site-packages/matplotlib/_api/deprecation.py?line=452'>453</a>\u001b[0m \u001b[39mif\u001b[39;00m \u001b[39mlen\u001b[39m(args) \u001b[39m>\u001b[39m name_idx:\n\u001b[0;32m    <a href='file:///c%3A/Users/naras/AppData/Local/Programs/Python/Python310/lib/site-packages/matplotlib/_api/deprecation.py?line=453'>454</a>\u001b[0m     warn_deprecated(\n\u001b[0;32m    <a href='file:///c%3A/Users/naras/AppData/Local/Programs/Python/Python310/lib/site-packages/matplotlib/_api/deprecation.py?line=454'>455</a>\u001b[0m         since, message\u001b[39m=\u001b[39m\u001b[39m\"\u001b[39m\u001b[39mPassing the \u001b[39m\u001b[39m%(name)s\u001b[39;00m\u001b[39m \u001b[39m\u001b[39m%(obj_type)s\u001b[39;00m\u001b[39m \u001b[39m\u001b[39m\"\u001b[39m\n\u001b[0;32m    <a href='file:///c%3A/Users/naras/AppData/Local/Programs/Python/Python310/lib/site-packages/matplotlib/_api/deprecation.py?line=455'>456</a>\u001b[0m         \u001b[39m\"\u001b[39m\u001b[39mpositionally is deprecated since Matplotlib \u001b[39m\u001b[39m%(since)s\u001b[39;00m\u001b[39m; the \u001b[39m\u001b[39m\"\u001b[39m\n\u001b[0;32m    <a href='file:///c%3A/Users/naras/AppData/Local/Programs/Python/Python310/lib/site-packages/matplotlib/_api/deprecation.py?line=456'>457</a>\u001b[0m         \u001b[39m\"\u001b[39m\u001b[39mparameter will become keyword-only \u001b[39m\u001b[39m%(removal)s\u001b[39;00m\u001b[39m.\u001b[39m\u001b[39m\"\u001b[39m,\n\u001b[0;32m    <a href='file:///c%3A/Users/naras/AppData/Local/Programs/Python/Python310/lib/site-packages/matplotlib/_api/deprecation.py?line=457'>458</a>\u001b[0m         name\u001b[39m=\u001b[39mname, obj_type\u001b[39m=\u001b[39m\u001b[39mf\u001b[39m\u001b[39m\"\u001b[39m\u001b[39mparameter of \u001b[39m\u001b[39m{\u001b[39;00mfunc\u001b[39m.\u001b[39m\u001b[39m__name__\u001b[39m\u001b[39m}\u001b[39;00m\u001b[39m()\u001b[39m\u001b[39m\"\u001b[39m)\n\u001b[1;32m--> <a href='file:///c%3A/Users/naras/AppData/Local/Programs/Python/Python310/lib/site-packages/matplotlib/_api/deprecation.py?line=458'>459</a>\u001b[0m \u001b[39mreturn\u001b[39;00m func(\u001b[39m*\u001b[39margs, \u001b[39m*\u001b[39m\u001b[39m*\u001b[39mkwargs)\n",
      "File \u001b[1;32mc:\\Users\\naras\\AppData\\Local\\Programs\\Python\\Python310\\lib\\site-packages\\matplotlib\\__init__.py:1412\u001b[0m, in \u001b[0;36m_preprocess_data.<locals>.inner\u001b[1;34m(ax, data, *args, **kwargs)\u001b[0m\n\u001b[0;32m   <a href='file:///c%3A/Users/naras/AppData/Local/Programs/Python/Python310/lib/site-packages/matplotlib/__init__.py?line=1408'>1409</a>\u001b[0m \u001b[39m@functools\u001b[39m\u001b[39m.\u001b[39mwraps(func)\n\u001b[0;32m   <a href='file:///c%3A/Users/naras/AppData/Local/Programs/Python/Python310/lib/site-packages/matplotlib/__init__.py?line=1409'>1410</a>\u001b[0m \u001b[39mdef\u001b[39;00m \u001b[39minner\u001b[39m(ax, \u001b[39m*\u001b[39margs, data\u001b[39m=\u001b[39m\u001b[39mNone\u001b[39;00m, \u001b[39m*\u001b[39m\u001b[39m*\u001b[39mkwargs):\n\u001b[0;32m   <a href='file:///c%3A/Users/naras/AppData/Local/Programs/Python/Python310/lib/site-packages/matplotlib/__init__.py?line=1410'>1411</a>\u001b[0m     \u001b[39mif\u001b[39;00m data \u001b[39mis\u001b[39;00m \u001b[39mNone\u001b[39;00m:\n\u001b[1;32m-> <a href='file:///c%3A/Users/naras/AppData/Local/Programs/Python/Python310/lib/site-packages/matplotlib/__init__.py?line=1411'>1412</a>\u001b[0m         \u001b[39mreturn\u001b[39;00m func(ax, \u001b[39m*\u001b[39m\u001b[39mmap\u001b[39m(sanitize_sequence, args), \u001b[39m*\u001b[39m\u001b[39m*\u001b[39mkwargs)\n\u001b[0;32m   <a href='file:///c%3A/Users/naras/AppData/Local/Programs/Python/Python310/lib/site-packages/matplotlib/__init__.py?line=1413'>1414</a>\u001b[0m     bound \u001b[39m=\u001b[39m new_sig\u001b[39m.\u001b[39mbind(ax, \u001b[39m*\u001b[39margs, \u001b[39m*\u001b[39m\u001b[39m*\u001b[39mkwargs)\n\u001b[0;32m   <a href='file:///c%3A/Users/naras/AppData/Local/Programs/Python/Python310/lib/site-packages/matplotlib/__init__.py?line=1414'>1415</a>\u001b[0m     auto_label \u001b[39m=\u001b[39m (bound\u001b[39m.\u001b[39marguments\u001b[39m.\u001b[39mget(label_namer)\n\u001b[0;32m   <a href='file:///c%3A/Users/naras/AppData/Local/Programs/Python/Python310/lib/site-packages/matplotlib/__init__.py?line=1415'>1416</a>\u001b[0m                   \u001b[39mor\u001b[39;00m bound\u001b[39m.\u001b[39mkwargs\u001b[39m.\u001b[39mget(label_namer))\n",
      "File \u001b[1;32mc:\\Users\\naras\\AppData\\Local\\Programs\\Python\\Python310\\lib\\site-packages\\matplotlib\\axes\\_axes.py:5481\u001b[0m, in \u001b[0;36mAxes.imshow\u001b[1;34m(self, X, cmap, norm, aspect, interpolation, alpha, vmin, vmax, origin, extent, interpolation_stage, filternorm, filterrad, resample, url, **kwargs)\u001b[0m\n\u001b[0;32m   <a href='file:///c%3A/Users/naras/AppData/Local/Programs/Python/Python310/lib/site-packages/matplotlib/axes/_axes.py?line=5473'>5474</a>\u001b[0m \u001b[39mself\u001b[39m\u001b[39m.\u001b[39mset_aspect(aspect)\n\u001b[0;32m   <a href='file:///c%3A/Users/naras/AppData/Local/Programs/Python/Python310/lib/site-packages/matplotlib/axes/_axes.py?line=5474'>5475</a>\u001b[0m im \u001b[39m=\u001b[39m mimage\u001b[39m.\u001b[39mAxesImage(\u001b[39mself\u001b[39m, cmap, norm, interpolation,\n\u001b[0;32m   <a href='file:///c%3A/Users/naras/AppData/Local/Programs/Python/Python310/lib/site-packages/matplotlib/axes/_axes.py?line=5475'>5476</a>\u001b[0m                       origin, extent, filternorm\u001b[39m=\u001b[39mfilternorm,\n\u001b[0;32m   <a href='file:///c%3A/Users/naras/AppData/Local/Programs/Python/Python310/lib/site-packages/matplotlib/axes/_axes.py?line=5476'>5477</a>\u001b[0m                       filterrad\u001b[39m=\u001b[39mfilterrad, resample\u001b[39m=\u001b[39mresample,\n\u001b[0;32m   <a href='file:///c%3A/Users/naras/AppData/Local/Programs/Python/Python310/lib/site-packages/matplotlib/axes/_axes.py?line=5477'>5478</a>\u001b[0m                       interpolation_stage\u001b[39m=\u001b[39minterpolation_stage,\n\u001b[0;32m   <a href='file:///c%3A/Users/naras/AppData/Local/Programs/Python/Python310/lib/site-packages/matplotlib/axes/_axes.py?line=5478'>5479</a>\u001b[0m                       \u001b[39m*\u001b[39m\u001b[39m*\u001b[39mkwargs)\n\u001b[1;32m-> <a href='file:///c%3A/Users/naras/AppData/Local/Programs/Python/Python310/lib/site-packages/matplotlib/axes/_axes.py?line=5480'>5481</a>\u001b[0m im\u001b[39m.\u001b[39;49mset_data(X)\n\u001b[0;32m   <a href='file:///c%3A/Users/naras/AppData/Local/Programs/Python/Python310/lib/site-packages/matplotlib/axes/_axes.py?line=5481'>5482</a>\u001b[0m im\u001b[39m.\u001b[39mset_alpha(alpha)\n\u001b[0;32m   <a href='file:///c%3A/Users/naras/AppData/Local/Programs/Python/Python310/lib/site-packages/matplotlib/axes/_axes.py?line=5482'>5483</a>\u001b[0m \u001b[39mif\u001b[39;00m im\u001b[39m.\u001b[39mget_clip_path() \u001b[39mis\u001b[39;00m \u001b[39mNone\u001b[39;00m:\n\u001b[0;32m   <a href='file:///c%3A/Users/naras/AppData/Local/Programs/Python/Python310/lib/site-packages/matplotlib/axes/_axes.py?line=5483'>5484</a>\u001b[0m     \u001b[39m# image does not already have clipping set, clip to axes patch\u001b[39;00m\n",
      "File \u001b[1;32mc:\\Users\\naras\\AppData\\Local\\Programs\\Python\\Python310\\lib\\site-packages\\matplotlib\\image.py:715\u001b[0m, in \u001b[0;36m_ImageBase.set_data\u001b[1;34m(self, A)\u001b[0m\n\u001b[0;32m    <a href='file:///c%3A/Users/naras/AppData/Local/Programs/Python/Python310/lib/site-packages/matplotlib/image.py?line=710'>711</a>\u001b[0m     \u001b[39mself\u001b[39m\u001b[39m.\u001b[39m_A \u001b[39m=\u001b[39m \u001b[39mself\u001b[39m\u001b[39m.\u001b[39m_A[:, :, \u001b[39m0\u001b[39m]\n\u001b[0;32m    <a href='file:///c%3A/Users/naras/AppData/Local/Programs/Python/Python310/lib/site-packages/matplotlib/image.py?line=712'>713</a>\u001b[0m \u001b[39mif\u001b[39;00m \u001b[39mnot\u001b[39;00m (\u001b[39mself\u001b[39m\u001b[39m.\u001b[39m_A\u001b[39m.\u001b[39mndim \u001b[39m==\u001b[39m \u001b[39m2\u001b[39m\n\u001b[0;32m    <a href='file:///c%3A/Users/naras/AppData/Local/Programs/Python/Python310/lib/site-packages/matplotlib/image.py?line=713'>714</a>\u001b[0m         \u001b[39mor\u001b[39;00m \u001b[39mself\u001b[39m\u001b[39m.\u001b[39m_A\u001b[39m.\u001b[39mndim \u001b[39m==\u001b[39m \u001b[39m3\u001b[39m \u001b[39mand\u001b[39;00m \u001b[39mself\u001b[39m\u001b[39m.\u001b[39m_A\u001b[39m.\u001b[39mshape[\u001b[39m-\u001b[39m\u001b[39m1\u001b[39m] \u001b[39min\u001b[39;00m [\u001b[39m3\u001b[39m, \u001b[39m4\u001b[39m]):\n\u001b[1;32m--> <a href='file:///c%3A/Users/naras/AppData/Local/Programs/Python/Python310/lib/site-packages/matplotlib/image.py?line=714'>715</a>\u001b[0m     \u001b[39mraise\u001b[39;00m \u001b[39mTypeError\u001b[39;00m(\u001b[39m\"\u001b[39m\u001b[39mInvalid shape \u001b[39m\u001b[39m{}\u001b[39;00m\u001b[39m for image data\u001b[39m\u001b[39m\"\u001b[39m\n\u001b[0;32m    <a href='file:///c%3A/Users/naras/AppData/Local/Programs/Python/Python310/lib/site-packages/matplotlib/image.py?line=715'>716</a>\u001b[0m                     \u001b[39m.\u001b[39mformat(\u001b[39mself\u001b[39m\u001b[39m.\u001b[39m_A\u001b[39m.\u001b[39mshape))\n\u001b[0;32m    <a href='file:///c%3A/Users/naras/AppData/Local/Programs/Python/Python310/lib/site-packages/matplotlib/image.py?line=717'>718</a>\u001b[0m \u001b[39mif\u001b[39;00m \u001b[39mself\u001b[39m\u001b[39m.\u001b[39m_A\u001b[39m.\u001b[39mndim \u001b[39m==\u001b[39m \u001b[39m3\u001b[39m:\n\u001b[0;32m    <a href='file:///c%3A/Users/naras/AppData/Local/Programs/Python/Python310/lib/site-packages/matplotlib/image.py?line=718'>719</a>\u001b[0m     \u001b[39m# If the input data has values outside the valid range (after\u001b[39;00m\n\u001b[0;32m    <a href='file:///c%3A/Users/naras/AppData/Local/Programs/Python/Python310/lib/site-packages/matplotlib/image.py?line=719'>720</a>\u001b[0m     \u001b[39m# normalisation), we issue a warning and then clip X to the bounds\u001b[39;00m\n\u001b[0;32m    <a href='file:///c%3A/Users/naras/AppData/Local/Programs/Python/Python310/lib/site-packages/matplotlib/image.py?line=720'>721</a>\u001b[0m     \u001b[39m# - otherwise casting wraps extreme values, hiding outliers and\u001b[39;00m\n\u001b[0;32m    <a href='file:///c%3A/Users/naras/AppData/Local/Programs/Python/Python310/lib/site-packages/matplotlib/image.py?line=721'>722</a>\u001b[0m     \u001b[39m# making reliable interpretation impossible.\u001b[39;00m\n\u001b[0;32m    <a href='file:///c%3A/Users/naras/AppData/Local/Programs/Python/Python310/lib/site-packages/matplotlib/image.py?line=722'>723</a>\u001b[0m     high \u001b[39m=\u001b[39m \u001b[39m255\u001b[39m \u001b[39mif\u001b[39;00m np\u001b[39m.\u001b[39missubdtype(\u001b[39mself\u001b[39m\u001b[39m.\u001b[39m_A\u001b[39m.\u001b[39mdtype, np\u001b[39m.\u001b[39minteger) \u001b[39melse\u001b[39;00m \u001b[39m1\u001b[39m\n",
      "\u001b[1;31mTypeError\u001b[0m: Invalid shape () for image data"
     ]
    },
    {
     "data": {
      "image/png": "[encoded data removed]",
      "text/plain": [
       "<Figure size 432x288 with 1 Axes>"
      ]
     },
     "metadata": {
      "needs_background": "light"
     },
     "output_type": "display_data"
    }
   ],
   "source": [
    "for i in train_ldr:\n",
    "    break\n",
    "out=net(i.to(device))\n",
    "plt.imshow(i[1][0])"
   ]
  },
  {
   "cell_type": "code",
   "execution_count": 12,
   "metadata": {},
   "outputs": [
    {
     "ename": "TypeError",
     "evalue": "Invalid shape () for image data",
     "output_type": "error",
     "traceback": [
      "\u001b[0;31m---------------------------------------------------------------------------\u001b[0m",
      "\u001b[0;31mTypeError\u001b[0m                                 Traceback (most recent call last)",
      "\u001b[1;32m/mnt/d/Work/Autoenc/hyperspectral-autoencoders-master/hyperspectral-autoencoders-master/dimensenc-hyp-v4.ipynb Cell 10'\u001b[0m in \u001b[0;36m<cell line: 1>\u001b[0;34m()\u001b[0m\n\u001b[0;32m----> <a href='vscode-notebook-cell://wsl%2Bubuntu/mnt/d/Work/Autoenc/hyperspectral-autoencoders-master/hyperspectral-autoencoders-master/dimensenc-hyp-v4.ipynb#ch0000009vscode-remote?line=0'>1</a>\u001b[0m plt\u001b[39m.\u001b[39;49mimshow(out[\u001b[39m1\u001b[39;49m][\u001b[39m0\u001b[39;49m]\u001b[39m.\u001b[39;49mto(\u001b[39m\"\u001b[39;49m\u001b[39mcpu\u001b[39;49m\u001b[39m\"\u001b[39;49m)\u001b[39m.\u001b[39;49mdetach()\u001b[39m.\u001b[39;49mnumpy())\n",
      "File \u001b[0;32m~/.local/lib/python3.8/site-packages/matplotlib/_api/deprecation.py:459\u001b[0m, in \u001b[0;36mmake_keyword_only.<locals>.wrapper\u001b[0;34m(*args, **kwargs)\u001b[0m\n\u001b[1;32m    <a href='file:///home/han/.local/lib/python3.8/site-packages/matplotlib/_api/deprecation.py?line=452'>453</a>\u001b[0m \u001b[39mif\u001b[39;00m \u001b[39mlen\u001b[39m(args) \u001b[39m>\u001b[39m name_idx:\n\u001b[1;32m    <a href='file:///home/han/.local/lib/python3.8/site-packages/matplotlib/_api/deprecation.py?line=453'>454</a>\u001b[0m     warn_deprecated(\n\u001b[1;32m    <a href='file:///home/han/.local/lib/python3.8/site-packages/matplotlib/_api/deprecation.py?line=454'>455</a>\u001b[0m         since, message\u001b[39m=\u001b[39m\u001b[39m\"\u001b[39m\u001b[39mPassing the \u001b[39m\u001b[39m%(name)s\u001b[39;00m\u001b[39m \u001b[39m\u001b[39m%(obj_type)s\u001b[39;00m\u001b[39m \u001b[39m\u001b[39m\"\u001b[39m\n\u001b[1;32m    <a href='file:///home/han/.local/lib/python3.8/site-packages/matplotlib/_api/deprecation.py?line=455'>456</a>\u001b[0m         \u001b[39m\"\u001b[39m\u001b[39mpositionally is deprecated since Matplotlib \u001b[39m\u001b[39m%(since)s\u001b[39;00m\u001b[39m; the \u001b[39m\u001b[39m\"\u001b[39m\n\u001b[1;32m    <a href='file:///home/han/.local/lib/python3.8/site-packages/matplotlib/_api/deprecation.py?line=456'>457</a>\u001b[0m         \u001b[39m\"\u001b[39m\u001b[39mparameter will become keyword-only \u001b[39m\u001b[39m%(removal)s\u001b[39;00m\u001b[39m.\u001b[39m\u001b[39m\"\u001b[39m,\n\u001b[1;32m    <a href='file:///home/han/.local/lib/python3.8/site-packages/matplotlib/_api/deprecation.py?line=457'>458</a>\u001b[0m         name\u001b[39m=\u001b[39mname, obj_type\u001b[39m=\u001b[39m\u001b[39mf\u001b[39m\u001b[39m\"\u001b[39m\u001b[39mparameter of \u001b[39m\u001b[39m{\u001b[39;00mfunc\u001b[39m.\u001b[39m\u001b[39m__name__\u001b[39m\u001b[39m}\u001b[39;00m\u001b[39m()\u001b[39m\u001b[39m\"\u001b[39m)\n\u001b[0;32m--> <a href='file:///home/han/.local/lib/python3.8/site-packages/matplotlib/_api/deprecation.py?line=458'>459</a>\u001b[0m \u001b[39mreturn\u001b[39;00m func(\u001b[39m*\u001b[39;49margs, \u001b[39m*\u001b[39;49m\u001b[39m*\u001b[39;49mkwargs)\n",
      "File \u001b[0;32m~/.local/lib/python3.8/site-packages/matplotlib/pyplot.py:2652\u001b[0m, in \u001b[0;36mimshow\u001b[0;34m(X, cmap, norm, aspect, interpolation, alpha, vmin, vmax, origin, extent, interpolation_stage, filternorm, filterrad, resample, url, data, **kwargs)\u001b[0m\n\u001b[1;32m   <a href='file:///home/han/.local/lib/python3.8/site-packages/matplotlib/pyplot.py?line=2645'>2646</a>\u001b[0m \u001b[39m@_copy_docstring_and_deprecators\u001b[39m(Axes\u001b[39m.\u001b[39mimshow)\n\u001b[1;32m   <a href='file:///home/han/.local/lib/python3.8/site-packages/matplotlib/pyplot.py?line=2646'>2647</a>\u001b[0m \u001b[39mdef\u001b[39;00m \u001b[39mimshow\u001b[39m(\n\u001b[1;32m   <a href='file:///home/han/.local/lib/python3.8/site-packages/matplotlib/pyplot.py?line=2647'>2648</a>\u001b[0m         X, cmap\u001b[39m=\u001b[39m\u001b[39mNone\u001b[39;00m, norm\u001b[39m=\u001b[39m\u001b[39mNone\u001b[39;00m, aspect\u001b[39m=\u001b[39m\u001b[39mNone\u001b[39;00m, interpolation\u001b[39m=\u001b[39m\u001b[39mNone\u001b[39;00m,\n\u001b[1;32m   <a href='file:///home/han/.local/lib/python3.8/site-packages/matplotlib/pyplot.py?line=2648'>2649</a>\u001b[0m         alpha\u001b[39m=\u001b[39m\u001b[39mNone\u001b[39;00m, vmin\u001b[39m=\u001b[39m\u001b[39mNone\u001b[39;00m, vmax\u001b[39m=\u001b[39m\u001b[39mNone\u001b[39;00m, origin\u001b[39m=\u001b[39m\u001b[39mNone\u001b[39;00m, extent\u001b[39m=\u001b[39m\u001b[39mNone\u001b[39;00m, \u001b[39m*\u001b[39m,\n\u001b[1;32m   <a href='file:///home/han/.local/lib/python3.8/site-packages/matplotlib/pyplot.py?line=2649'>2650</a>\u001b[0m         interpolation_stage\u001b[39m=\u001b[39m\u001b[39mNone\u001b[39;00m, filternorm\u001b[39m=\u001b[39m\u001b[39mTrue\u001b[39;00m, filterrad\u001b[39m=\u001b[39m\u001b[39m4.0\u001b[39m,\n\u001b[1;32m   <a href='file:///home/han/.local/lib/python3.8/site-packages/matplotlib/pyplot.py?line=2650'>2651</a>\u001b[0m         resample\u001b[39m=\u001b[39m\u001b[39mNone\u001b[39;00m, url\u001b[39m=\u001b[39m\u001b[39mNone\u001b[39;00m, data\u001b[39m=\u001b[39m\u001b[39mNone\u001b[39;00m, \u001b[39m*\u001b[39m\u001b[39m*\u001b[39mkwargs):\n\u001b[0;32m-> <a href='file:///home/han/.local/lib/python3.8/site-packages/matplotlib/pyplot.py?line=2651'>2652</a>\u001b[0m     __ret \u001b[39m=\u001b[39m gca()\u001b[39m.\u001b[39;49mimshow(\n\u001b[1;32m   <a href='file:///home/han/.local/lib/python3.8/site-packages/matplotlib/pyplot.py?line=2652'>2653</a>\u001b[0m         X, cmap\u001b[39m=\u001b[39;49mcmap, norm\u001b[39m=\u001b[39;49mnorm, aspect\u001b[39m=\u001b[39;49maspect,\n\u001b[1;32m   <a href='file:///home/han/.local/lib/python3.8/site-packages/matplotlib/pyplot.py?line=2653'>2654</a>\u001b[0m         interpolation\u001b[39m=\u001b[39;49minterpolation, alpha\u001b[39m=\u001b[39;49malpha, vmin\u001b[39m=\u001b[39;49mvmin,\n\u001b[1;32m   <a href='file:///home/han/.local/lib/python3.8/site-packages/matplotlib/pyplot.py?line=2654'>2655</a>\u001b[0m         vmax\u001b[39m=\u001b[39;49mvmax, origin\u001b[39m=\u001b[39;49morigin, extent\u001b[39m=\u001b[39;49mextent,\n\u001b[1;32m   <a href='file:///home/han/.local/lib/python3.8/site-packages/matplotlib/pyplot.py?line=2655'>2656</a>\u001b[0m         interpolation_stage\u001b[39m=\u001b[39;49minterpolation_stage,\n\u001b[1;32m   <a href='file:///home/han/.local/lib/python3.8/site-packages/matplotlib/pyplot.py?line=2656'>2657</a>\u001b[0m         filternorm\u001b[39m=\u001b[39;49mfilternorm, filterrad\u001b[39m=\u001b[39;49mfilterrad, resample\u001b[39m=\u001b[39;49mresample,\n\u001b[1;32m   <a href='file:///home/han/.local/lib/python3.8/site-packages/matplotlib/pyplot.py?line=2657'>2658</a>\u001b[0m         url\u001b[39m=\u001b[39;49murl, \u001b[39m*\u001b[39;49m\u001b[39m*\u001b[39;49m({\u001b[39m\"\u001b[39;49m\u001b[39mdata\u001b[39;49m\u001b[39m\"\u001b[39;49m: data} \u001b[39mif\u001b[39;49;00m data \u001b[39mis\u001b[39;49;00m \u001b[39mnot\u001b[39;49;00m \u001b[39mNone\u001b[39;49;00m \u001b[39melse\u001b[39;49;00m {}),\n\u001b[1;32m   <a href='file:///home/han/.local/lib/python3.8/site-packages/matplotlib/pyplot.py?line=2658'>2659</a>\u001b[0m         \u001b[39m*\u001b[39;49m\u001b[39m*\u001b[39;49mkwargs)\n\u001b[1;32m   <a href='file:///home/han/.local/lib/python3.8/site-packages/matplotlib/pyplot.py?line=2659'>2660</a>\u001b[0m     sci(__ret)\n\u001b[1;32m   <a href='file:///home/han/.local/lib/python3.8/site-packages/matplotlib/pyplot.py?line=2660'>2661</a>\u001b[0m     \u001b[39mreturn\u001b[39;00m __ret\n",
      "File \u001b[0;32m~/.local/lib/python3.8/site-packages/matplotlib/_api/deprecation.py:459\u001b[0m, in \u001b[0;36mmake_keyword_only.<locals>.wrapper\u001b[0;34m(*args, **kwargs)\u001b[0m\n\u001b[1;32m    <a href='file:///home/han/.local/lib/python3.8/site-packages/matplotlib/_api/deprecation.py?line=452'>453</a>\u001b[0m \u001b[39mif\u001b[39;00m \u001b[39mlen\u001b[39m(args) \u001b[39m>\u001b[39m name_idx:\n\u001b[1;32m    <a href='file:///home/han/.local/lib/python3.8/site-packages/matplotlib/_api/deprecation.py?line=453'>454</a>\u001b[0m     warn_deprecated(\n\u001b[1;32m    <a href='file:///home/han/.local/lib/python3.8/site-packages/matplotlib/_api/deprecation.py?line=454'>455</a>\u001b[0m         since, message\u001b[39m=\u001b[39m\u001b[39m\"\u001b[39m\u001b[39mPassing the \u001b[39m\u001b[39m%(name)s\u001b[39;00m\u001b[39m \u001b[39m\u001b[39m%(obj_type)s\u001b[39;00m\u001b[39m \u001b[39m\u001b[39m\"\u001b[39m\n\u001b[1;32m    <a href='file:///home/han/.local/lib/python3.8/site-packages/matplotlib/_api/deprecation.py?line=455'>456</a>\u001b[0m         \u001b[39m\"\u001b[39m\u001b[39mpositionally is deprecated since Matplotlib \u001b[39m\u001b[39m%(since)s\u001b[39;00m\u001b[39m; the \u001b[39m\u001b[39m\"\u001b[39m\n\u001b[1;32m    <a href='file:///home/han/.local/lib/python3.8/site-packages/matplotlib/_api/deprecation.py?line=456'>457</a>\u001b[0m         \u001b[39m\"\u001b[39m\u001b[39mparameter will become keyword-only \u001b[39m\u001b[39m%(removal)s\u001b[39;00m\u001b[39m.\u001b[39m\u001b[39m\"\u001b[39m,\n\u001b[1;32m    <a href='file:///home/han/.local/lib/python3.8/site-packages/matplotlib/_api/deprecation.py?line=457'>458</a>\u001b[0m         name\u001b[39m=\u001b[39mname, obj_type\u001b[39m=\u001b[39m\u001b[39mf\u001b[39m\u001b[39m\"\u001b[39m\u001b[39mparameter of \u001b[39m\u001b[39m{\u001b[39;00mfunc\u001b[39m.\u001b[39m\u001b[39m__name__\u001b[39m\u001b[39m}\u001b[39;00m\u001b[39m()\u001b[39m\u001b[39m\"\u001b[39m)\n\u001b[0;32m--> <a href='file:///home/han/.local/lib/python3.8/site-packages/matplotlib/_api/deprecation.py?line=458'>459</a>\u001b[0m \u001b[39mreturn\u001b[39;00m func(\u001b[39m*\u001b[39;49margs, \u001b[39m*\u001b[39;49m\u001b[39m*\u001b[39;49mkwargs)\n",
      "File \u001b[0;32m~/.local/lib/python3.8/site-packages/matplotlib/__init__.py:1412\u001b[0m, in \u001b[0;36m_preprocess_data.<locals>.inner\u001b[0;34m(ax, data, *args, **kwargs)\u001b[0m\n\u001b[1;32m   <a href='file:///home/han/.local/lib/python3.8/site-packages/matplotlib/__init__.py?line=1408'>1409</a>\u001b[0m \u001b[39m@functools\u001b[39m\u001b[39m.\u001b[39mwraps(func)\n\u001b[1;32m   <a href='file:///home/han/.local/lib/python3.8/site-packages/matplotlib/__init__.py?line=1409'>1410</a>\u001b[0m \u001b[39mdef\u001b[39;00m \u001b[39minner\u001b[39m(ax, \u001b[39m*\u001b[39margs, data\u001b[39m=\u001b[39m\u001b[39mNone\u001b[39;00m, \u001b[39m*\u001b[39m\u001b[39m*\u001b[39mkwargs):\n\u001b[1;32m   <a href='file:///home/han/.local/lib/python3.8/site-packages/matplotlib/__init__.py?line=1410'>1411</a>\u001b[0m     \u001b[39mif\u001b[39;00m data \u001b[39mis\u001b[39;00m \u001b[39mNone\u001b[39;00m:\n\u001b[0;32m-> <a href='file:///home/han/.local/lib/python3.8/site-packages/matplotlib/__init__.py?line=1411'>1412</a>\u001b[0m         \u001b[39mreturn\u001b[39;00m func(ax, \u001b[39m*\u001b[39;49m\u001b[39mmap\u001b[39;49m(sanitize_sequence, args), \u001b[39m*\u001b[39;49m\u001b[39m*\u001b[39;49mkwargs)\n\u001b[1;32m   <a href='file:///home/han/.local/lib/python3.8/site-packages/matplotlib/__init__.py?line=1413'>1414</a>\u001b[0m     bound \u001b[39m=\u001b[39m new_sig\u001b[39m.\u001b[39mbind(ax, \u001b[39m*\u001b[39margs, \u001b[39m*\u001b[39m\u001b[39m*\u001b[39mkwargs)\n\u001b[1;32m   <a href='file:///home/han/.local/lib/python3.8/site-packages/matplotlib/__init__.py?line=1414'>1415</a>\u001b[0m     auto_label \u001b[39m=\u001b[39m (bound\u001b[39m.\u001b[39marguments\u001b[39m.\u001b[39mget(label_namer)\n\u001b[1;32m   <a href='file:///home/han/.local/lib/python3.8/site-packages/matplotlib/__init__.py?line=1415'>1416</a>\u001b[0m                   \u001b[39mor\u001b[39;00m bound\u001b[39m.\u001b[39mkwargs\u001b[39m.\u001b[39mget(label_namer))\n",
      "File \u001b[0;32m~/.local/lib/python3.8/site-packages/matplotlib/axes/_axes.py:5481\u001b[0m, in \u001b[0;36mAxes.imshow\u001b[0;34m(self, X, cmap, norm, aspect, interpolation, alpha, vmin, vmax, origin, extent, interpolation_stage, filternorm, filterrad, resample, url, **kwargs)\u001b[0m\n\u001b[1;32m   <a href='file:///home/han/.local/lib/python3.8/site-packages/matplotlib/axes/_axes.py?line=5473'>5474</a>\u001b[0m \u001b[39mself\u001b[39m\u001b[39m.\u001b[39mset_aspect(aspect)\n\u001b[1;32m   <a href='file:///home/han/.local/lib/python3.8/site-packages/matplotlib/axes/_axes.py?line=5474'>5475</a>\u001b[0m im \u001b[39m=\u001b[39m mimage\u001b[39m.\u001b[39mAxesImage(\u001b[39mself\u001b[39m, cmap, norm, interpolation,\n\u001b[1;32m   <a href='file:///home/han/.local/lib/python3.8/site-packages/matplotlib/axes/_axes.py?line=5475'>5476</a>\u001b[0m                       origin, extent, filternorm\u001b[39m=\u001b[39mfilternorm,\n\u001b[1;32m   <a href='file:///home/han/.local/lib/python3.8/site-packages/matplotlib/axes/_axes.py?line=5476'>5477</a>\u001b[0m                       filterrad\u001b[39m=\u001b[39mfilterrad, resample\u001b[39m=\u001b[39mresample,\n\u001b[1;32m   <a href='file:///home/han/.local/lib/python3.8/site-packages/matplotlib/axes/_axes.py?line=5477'>5478</a>\u001b[0m                       interpolation_stage\u001b[39m=\u001b[39minterpolation_stage,\n\u001b[1;32m   <a href='file:///home/han/.local/lib/python3.8/site-packages/matplotlib/axes/_axes.py?line=5478'>5479</a>\u001b[0m                       \u001b[39m*\u001b[39m\u001b[39m*\u001b[39mkwargs)\n\u001b[0;32m-> <a href='file:///home/han/.local/lib/python3.8/site-packages/matplotlib/axes/_axes.py?line=5480'>5481</a>\u001b[0m im\u001b[39m.\u001b[39;49mset_data(X)\n\u001b[1;32m   <a href='file:///home/han/.local/lib/python3.8/site-packages/matplotlib/axes/_axes.py?line=5481'>5482</a>\u001b[0m im\u001b[39m.\u001b[39mset_alpha(alpha)\n\u001b[1;32m   <a href='file:///home/han/.local/lib/python3.8/site-packages/matplotlib/axes/_axes.py?line=5482'>5483</a>\u001b[0m \u001b[39mif\u001b[39;00m im\u001b[39m.\u001b[39mget_clip_path() \u001b[39mis\u001b[39;00m \u001b[39mNone\u001b[39;00m:\n\u001b[1;32m   <a href='file:///home/han/.local/lib/python3.8/site-packages/matplotlib/axes/_axes.py?line=5483'>5484</a>\u001b[0m     \u001b[39m# image does not already have clipping set, clip to axes patch\u001b[39;00m\n",
      "File \u001b[0;32m~/.local/lib/python3.8/site-packages/matplotlib/image.py:715\u001b[0m, in \u001b[0;36m_ImageBase.set_data\u001b[0;34m(self, A)\u001b[0m\n\u001b[1;32m    <a href='file:///home/han/.local/lib/python3.8/site-packages/matplotlib/image.py?line=710'>711</a>\u001b[0m     \u001b[39mself\u001b[39m\u001b[39m.\u001b[39m_A \u001b[39m=\u001b[39m \u001b[39mself\u001b[39m\u001b[39m.\u001b[39m_A[:, :, \u001b[39m0\u001b[39m]\n\u001b[1;32m    <a href='file:///home/han/.local/lib/python3.8/site-packages/matplotlib/image.py?line=712'>713</a>\u001b[0m \u001b[39mif\u001b[39;00m \u001b[39mnot\u001b[39;00m (\u001b[39mself\u001b[39m\u001b[39m.\u001b[39m_A\u001b[39m.\u001b[39mndim \u001b[39m==\u001b[39m \u001b[39m2\u001b[39m\n\u001b[1;32m    <a href='file:///home/han/.local/lib/python3.8/site-packages/matplotlib/image.py?line=713'>714</a>\u001b[0m         \u001b[39mor\u001b[39;00m \u001b[39mself\u001b[39m\u001b[39m.\u001b[39m_A\u001b[39m.\u001b[39mndim \u001b[39m==\u001b[39m \u001b[39m3\u001b[39m \u001b[39mand\u001b[39;00m \u001b[39mself\u001b[39m\u001b[39m.\u001b[39m_A\u001b[39m.\u001b[39mshape[\u001b[39m-\u001b[39m\u001b[39m1\u001b[39m] \u001b[39min\u001b[39;00m [\u001b[39m3\u001b[39m, \u001b[39m4\u001b[39m]):\n\u001b[0;32m--> <a href='file:///home/han/.local/lib/python3.8/site-packages/matplotlib/image.py?line=714'>715</a>\u001b[0m     \u001b[39mraise\u001b[39;00m \u001b[39mTypeError\u001b[39;00m(\u001b[39m\"\u001b[39m\u001b[39mInvalid shape \u001b[39m\u001b[39m{}\u001b[39;00m\u001b[39m for image data\u001b[39m\u001b[39m\"\u001b[39m\n\u001b[1;32m    <a href='file:///home/han/.local/lib/python3.8/site-packages/matplotlib/image.py?line=715'>716</a>\u001b[0m                     \u001b[39m.\u001b[39mformat(\u001b[39mself\u001b[39m\u001b[39m.\u001b[39m_A\u001b[39m.\u001b[39mshape))\n\u001b[1;32m    <a href='file:///home/han/.local/lib/python3.8/site-packages/matplotlib/image.py?line=717'>718</a>\u001b[0m \u001b[39mif\u001b[39;00m \u001b[39mself\u001b[39m\u001b[39m.\u001b[39m_A\u001b[39m.\u001b[39mndim \u001b[39m==\u001b[39m \u001b[39m3\u001b[39m:\n\u001b[1;32m    <a href='file:///home/han/.local/lib/python3.8/site-packages/matplotlib/image.py?line=718'>719</a>\u001b[0m     \u001b[39m# If the input data has values outside the valid range (after\u001b[39;00m\n\u001b[1;32m    <a href='file:///home/han/.local/lib/python3.8/site-packages/matplotlib/image.py?line=719'>720</a>\u001b[0m     \u001b[39m# normalisation), we issue a warning and then clip X to the bounds\u001b[39;00m\n\u001b[1;32m    <a href='file:///home/han/.local/lib/python3.8/site-packages/matplotlib/image.py?line=720'>721</a>\u001b[0m     \u001b[39m# - otherwise casting wraps extreme values, hiding outliers and\u001b[39;00m\n\u001b[1;32m    <a href='file:///home/han/.local/lib/python3.8/site-packages/matplotlib/image.py?line=721'>722</a>\u001b[0m     \u001b[39m# making reliable interpretation impossible.\u001b[39;00m\n\u001b[1;32m    <a href='file:///home/han/.local/lib/python3.8/site-packages/matplotlib/image.py?line=722'>723</a>\u001b[0m     high \u001b[39m=\u001b[39m \u001b[39m255\u001b[39m \u001b[39mif\u001b[39;00m np\u001b[39m.\u001b[39missubdtype(\u001b[39mself\u001b[39m\u001b[39m.\u001b[39m_A\u001b[39m.\u001b[39mdtype, np\u001b[39m.\u001b[39minteger) \u001b[39melse\u001b[39;00m \u001b[39m1\u001b[39m\n",
      "\u001b[0;31mTypeError\u001b[0m: Invalid shape () for image data"
     ]
    },
    {
     "data": {
      "image/png": "[encoded data removed]",
      "text/plain": [
       "<Figure size 432x288 with 1 Axes>"
      ]
     },
     "metadata": {
      "needs_background": "light"
     },
     "output_type": "display_data"
    }
   ],
   "source": [
    "plt.imshow(out[1][0].to(\"cpu\").detach().numpy())"
   ]
  },
  {
   "cell_type": "code",
   "execution_count": 13,
   "metadata": {},
   "outputs": [
    {
     "data": {
      "text/plain": [
       "tensor(0.1481, grad_fn=<L1LossBackward0>)"
      ]
     },
     "execution_count": 13,
     "metadata": {},
     "output_type": "execute_result"
    }
   ],
   "source": [
    "loss_func(out[1][0].to(\"cpu\"), i[1][0].to(\"cpu\"))"
   ]
  },
  {
   "cell_type": "code",
   "execution_count": null,
   "metadata": {},
   "outputs": [],
   "source": [
    "i[0][0]"
   ]
  },
  {
   "cell_type": "code",
   "execution_count": null,
   "metadata": {},
   "outputs": [],
   "source": [
    "out[0][0]"
   ]
  },
  {
   "cell_type": "code",
   "execution_count": null,
   "metadata": {},
   "outputs": [],
   "source": [
    "bow=crop_images.to(device)\n",
    "xy = net.encode(bow).to(device)\n",
    "xy = xy.to(\"cpu\").detach().numpy()  "
   ]
  },
  {
   "cell_type": "code",
   "execution_count": null,
   "metadata": {},
   "outputs": [],
   "source": [
    "  with T.no_grad():\n",
    "    bow=train_ds[:]['pixels']\n",
    "    bow=crop_images.to(device)\n",
    "    xy = net.encode(bow)  # (1797,2)\n",
    "  lbls = train_ds[:]['digit']  # (1797,)\n",
    "  lbls=lbls.to(device)\n",
    "  xy = xy.to(\"cpu\").detach().numpy()      # tensors to numpy arrays\n",
    "  lbls = lbls.to(\"cpu\").detach().numpy()\n",
    "  \n",
    "  \n",
    "\n",
    "  fig, ax = plt.subplots()\n",
    "  colors = ['red', 'blue', 'green', 'yellow', 'orange',\n",
    "            'black', 'brown', 'purple', 'silver', 'pink']\n",
    "  digits = [' 0 ', ' 1 ', ' 2 ', ' 3 ', ' 4 ',\n",
    "            ' 5 ', ' 6 ', ' 7 ', ' 8 ', ' 9 ']\n",
    "\n",
    "  # process by each color/class\n",
    "  for i in range(len(colors)):  # 0 to 9 each color\n",
    "    color = colors[i]\n",
    "    rows = []                   # select rows for curr color\n",
    "    for j in range(len(xy)):    # 0 to 1796\n",
    "      if lbls[j] == i:\n",
    "        rows.append(True)       # to extract rows, must use bool\n",
    "      else:\n",
    "        rows.append(False)\n",
    "\n",
    "    rows = np.array(rows, dtype=np.bool)  # list to array\n",
    "    selected = xy[rows,:]                 # like (178,2)\n",
    "\n",
    "    x = selected[:,0]  # like (178,)\n",
    "    y = selected[:,1]\n",
    "    scatter  = ax.scatter(x, y, c=color, s=20, alpha=0.9)\n",
    "    # and continue on to next color/class\n",
    "\n",
    "  txt = \"\\n\" + \"0=red \\n\" + \"1=blue \\n\" + \"2=green \\n\" + \\\n",
    "    \"3=yellow \\n\" + \"4=orange \\n\" + \"5=black \\n\" + \\\n",
    "    \"6=brown \\n\" + \"7=purple \\n\" + \"8=silver \\n\" + \"9=pink \\n\"\n",
    "\n",
    "  props = dict(boxstyle='round', facecolor='wheat', alpha=0.95)\n",
    "  ax.text(0.95, 0.95, txt, transform=ax.transAxes, fontsize=8,\n",
    "    verticalalignment='top', bbox=props)\n",
    "  ax.grid(True)\n",
    "  plt.xlabel('component 1')\n",
    "  plt.ylabel('component 2')\n",
    "  plt.show()\n",
    "\n",
    "  print(\"\\nEnd UCI digits auto-reduce-viz demo\")\n",
    "\n",
    "\n",
    "main()"
   ]
  },
  {
   "cell_type": "code",
   "execution_count": null,
   "metadata": {},
   "outputs": [],
   "source": [
    "bow"
   ]
  },
  {
   "cell_type": "code",
   "execution_count": null,
   "metadata": {},
   "outputs": [],
   "source": [
    "train_ds"
   ]
  },
  {
   "cell_type": "code",
   "execution_count": null,
   "metadata": {},
   "outputs": [],
   "source": [
    "train_file = \"digits_uci_test_1797.txt\"\n",
    "train_ds = UciDigitsDataset(train_file)"
   ]
  },
  {
   "cell_type": "code",
   "execution_count": null,
   "metadata": {},
   "outputs": [],
   "source": [
    "main.lbls"
   ]
  },
  {
   "cell_type": "code",
   "execution_count": null,
   "metadata": {},
   "outputs": [],
   "source": [
    "# -----------------------------------------------------------\n",
    "\n",
    "\n",
    "# 0. setup\n",
    "print(\"\\nBegin UCI digits auto-reduce-viz demo job \")\n",
    "T.manual_seed(1)\n",
    "np.random.seed(1)\n",
    "\n",
    "# 1. create DataLoader object\n",
    "print(\"\\nCreating UCI Digits Dataset \")\n",
    "\n",
    "train_file = \"digits_uci_test_1797.txt\"\n",
    "train_ds = UciDigitsDataset(train_file) # all 1797 rows\n",
    "\n",
    "\n",
    "bat_size = 10\n",
    "train_ldr = T.utils.data.DataLoader(train_ds,\n",
    "batch_size=bat_size, shuffle=True)\n",
    "\n",
    "# 2. create network\n",
    "print(\"\\nCreating 64-16-2-16-63 autoencoder \")\n",
    "net = Net().to(\"cuda:0\")\n",
    "\n",
    "# 3. train model\n",
    "max_epochs = 200\n",
    "ep_log_interval = 10\n",
    "lrn_rate = 0.01\n",
    "\n",
    "loss_func = T.nn.MSELoss()\n",
    "optimizer = T.optim.Adam(net.parameters(), lr=lrn_rate)\n",
    "\n",
    "print(\"\\nbat_size = %3d \" % bat_size)\n",
    "print(\"loss = \" + str(loss_func))\n",
    "print(\"optimizer = Adam\")\n",
    "print(\"max_epochs = %3d \" % max_epochs)\n",
    "print(\"lrn_rate = %0.3f \" % lrn_rate)\n",
    "\n",
    "print(\"\\nStarting training\")\n",
    "net = net.train()\n",
    "for epoch in range(0, max_epochs):\n",
    "    epoch_loss = 0  # for one full epoch\n",
    "\n",
    "    for (batch_idx, batch) in enumerate(train_ldr):\n",
    "        X = batch['pixels'].to(device)  # no targets needed\n",
    "\n",
    "        optimizer.zero_grad()\n",
    "        oupt = net(X)\n",
    "        loss_obj = loss_func(oupt, X)  # note: X not Y\n",
    "        epoch_loss += loss_obj.item()  # accumulate\n",
    "        loss_obj.backward()\n",
    "        optimizer.step()\n",
    "\n",
    "    if epoch % ep_log_interval == 0:\n",
    "        print(\"epoch = %4d   loss = %0.4f\" % (epoch, epoch_loss))\n",
    "print(\"Done \")\n",
    "\n",
    "# 4. plot digits using reduced form\n",
    "print(\"\\nCreating graph from encoded data \")\n",
    "net = net.eval()\n",
    "\n",
    "with T.no_grad():\n",
    "    bow=train_ds[:]['pixels']\n",
    "    bow=bow.to(device)\n",
    "    xy = net.encode(bow)  # (1797,2)\n",
    "    lbls = train_ds[:]['digit']  # (1797,)\n",
    "    lbls=lbls.to(device)\n",
    "    xy = xy.to(\"cpu\").detach().numpy()      # tensors to numpy arrays\n",
    "    lbls = lbls.to(\"cpu\").detach().numpy()\n",
    "\n",
    "\n",
    "\n",
    "fig, ax = plt.subplots()\n",
    "colors = ['red', 'blue', 'green', 'yellow', 'orange',\n",
    "        'black', 'brown', 'purple', 'silver', 'pink']\n",
    "digits = [' 0 ', ' 1 ', ' 2 ', ' 3 ', ' 4 ',\n",
    "        ' 5 ', ' 6 ', ' 7 ', ' 8 ', ' 9 ']\n",
    "\n",
    "# process by each color/class\n",
    "for i in range(len(colors)):  # 0 to 9 each color\n",
    "    color = colors[i]\n",
    "rows = []                   # select rows for curr color\n",
    "for j in range(len(xy)):    # 0 to 1796\n",
    "    if lbls[j] == i:\n",
    "        rows.append(True)       # to extract rows, must use bool\n",
    "    else:\n",
    "        rows.append(False)\n",
    "\n",
    "rows = np.array(rows, dtype=np.bool)  # list to array\n",
    "selected = xy[rows,:]                 # like (178,2)\n",
    "\n",
    "x = selected[:,0]  # like (178,)\n",
    "y = selected[:,1]\n",
    "scatter  = ax.scatter(x, y, c=color, s=20, alpha=0.9)\n",
    "# and continue on to next color/class\n",
    "\n",
    "txt = \"\\n\" + \"0=red \\n\" + \"1=blue \\n\" + \"2=green \\n\" + \\\n",
    "\"3=yellow \\n\" + \"4=orange \\n\" + \"5=black \\n\" + \\\n",
    "\"6=brown \\n\" + \"7=purple \\n\" + \"8=silver \\n\" + \"9=pink \\n\"\n",
    "\n",
    "props = dict(boxstyle='round', facecolor='wheat', alpha=0.95)\n",
    "ax.text(0.95, 0.95, txt, transform=ax.transAxes, fontsize=8,\n",
    "verticalalignment='top', bbox=props)\n",
    "ax.grid(True)\n",
    "plt.xlabel('component 1')\n",
    "plt.ylabel('component 2')\n",
    "plt.show()\n",
    "\n",
    "print(\"\\nEnd UCI digits auto-reduce-viz demo\")\n"
   ]
  },
  {
   "cell_type": "code",
   "execution_count": null,
   "metadata": {},
   "outputs": [],
   "source": [
    "lbls.shape"
   ]
  },
  {
   "cell_type": "code",
   "execution_count": null,
   "metadata": {},
   "outputs": [],
   "source": [
    "lbls"
   ]
  },
  {
   "cell_type": "code",
   "execution_count": null,
   "metadata": {},
   "outputs": [],
   "source": [
    "xy"
   ]
  },
  {
   "cell_type": "code",
   "execution_count": null,
   "metadata": {},
   "outputs": [],
   "source": [
    "plt.scatter(xy[:,0],xy[:,1])"
   ]
  },
  {
   "cell_type": "code",
   "execution_count": null,
   "metadata": {},
   "outputs": [],
   "source": [
    "xy[:,0].shape"
   ]
  },
  {
   "cell_type": "code",
   "execution_count": null,
   "metadata": {},
   "outputs": [],
   "source": [
    "xy[:,0].shape"
   ]
  },
  {
   "cell_type": "code",
   "execution_count": null,
   "metadata": {},
   "outputs": [
    {
     "name": "stdout",
     "output_type": "stream",
     "text": [
      "26 24\n"
     ]
    }
   ],
   "source": [
    "import math\n",
    "import itertools\n",
    "\n",
    "target1=8\n",
    "possible_vals=[]\n",
    "for i in range(1,target1):\n",
    "    temp=target1-i\n",
    "    possible_vals.append(int(\"\".join([str(i),str(temp)])))\n",
    "\n",
    "for target in possible_vals:\n",
    "    for i in range(9):\n",
    "        if(math.factorial(i)>target):\n",
    "            break\n",
    "    out1= [math.factorial(bla) for bla in range(1,i)]\n",
    "    out1\n",
    "    indeces=[]\n",
    "    for u in range(i):\n",
    "        for bla in itertools.combinations(out1,u):\n",
    "            if(sum(bla)==target):\n",
    "                indeces.append(bla)\n",
    "    vals_final=[]\n",
    "    if(len(indeces)>0):\n",
    "        for i in indeces:\n",
    "            for j in i:\n",
    "                vals_final.append(out1.index(j)+1)\n",
    "\n",
    "            p= [x for x in itertools.permutations(vals_final,len(vals_final))]\n",
    "            p1=[int(\"\".join([str(i) for i in ha])) for ha in p]\n",
    "            print(target,min(p1))"
   ]
  },
  {
   "cell_type": "code",
   "execution_count": null,
   "metadata": {},
   "outputs": [
    {
     "data": {
      "text/plain": [
       "[(2, 6, 24)]"
      ]
     },
     "execution_count": 100,
     "metadata": {},
     "output_type": "execute_result"
    }
   ],
   "source": [
    "indeces"
   ]
  },
  {
   "cell_type": "code",
   "execution_count": null,
   "metadata": {},
   "outputs": [],
   "source": [
    "\n",
    "\n",
    "\n"
   ]
  },
  {
   "cell_type": "code",
   "execution_count": null,
   "metadata": {},
   "outputs": [
    {
     "data": {
      "text/plain": [
       "[14, 23, 32, 41]"
      ]
     },
     "execution_count": 112,
     "metadata": {},
     "output_type": "execute_result"
    }
   ],
   "source": [
    "possible_vals"
   ]
  },
  {
   "cell_type": "code",
   "execution_count": null,
   "metadata": {},
   "outputs": [],
   "source": []
  }
 ],
 "metadata": {
  "interpreter": {
   "hash": "916dbcbb3f70747c44a77c7bcd40155683ae19c65e1c03b4aa3499c5328201f1"
  },
  "kernelspec": {
   "display_name": "Python 3.8.10 64-bit",
   "language": "python",
   "name": "python3"
  },
  "language_info": {
   "codemirror_mode": {
    "name": "ipython",
    "version": 3
   },
   "file_extension": ".py",
   "mimetype": "text/x-python",
   "name": "python",
   "nbconvert_exporter": "python",
   "pygments_lexer": "ipython3",
   "version": "3.8.10"
  },
  "orig_nbformat": 4
 },
 "nbformat": 4,
 "nbformat_minor": 2
}
