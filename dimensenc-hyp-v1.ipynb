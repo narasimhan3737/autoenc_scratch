{
 "cells": [
  {
   "cell_type": "code",
   "execution_count": 6,
   "metadata": {},
   "outputs": [],
   "source": [
    "\n",
    "import numpy as np\n",
    "import matplotlib.pyplot as plt\n",
    "import torch as T\n",
    "import pickle\n",
    "device = T.device(\"cuda:0\")  # apply to Tensor or Module\n",
    "\n"
   ]
  },
  {
   "cell_type": "code",
   "execution_count": 7,
   "metadata": {},
   "outputs": [
    {
     "ename": "FileNotFoundError",
     "evalue": "[WinError 3] The system cannot find the path specified: '/mnt/d/Work/Dissertation/Preprocessing/VNIR-Field1/'",
     "output_type": "error",
     "traceback": [
      "\u001b[1;31m---------------------------------------------------------------------------\u001b[0m",
      "\u001b[1;31mFileNotFoundError\u001b[0m                         Traceback (most recent call last)",
      "\u001b[1;32md:\\Work\\Autoenc\\hyperspectral-autoencoders-master\\autoenc_scratch\\dimensenc-hyp-v1.ipynb Cell 2'\u001b[0m in \u001b[0;36m<cell line: 5>\u001b[1;34m()\u001b[0m\n\u001b[0;32m      <a href='vscode-notebook-cell:/d%3A/Work/Autoenc/hyperspectral-autoencoders-master/autoenc_scratch/dimensenc-hyp-v1.ipynb#ch0000001?line=2'>3</a>\u001b[0m \u001b[39mimport\u001b[39;00m \u001b[39mglob\u001b[39;00m\n\u001b[0;32m      <a href='vscode-notebook-cell:/d%3A/Work/Autoenc/hyperspectral-autoencoders-master/autoenc_scratch/dimensenc-hyp-v1.ipynb#ch0000001?line=3'>4</a>\u001b[0m path \u001b[39m=\u001b[39m \u001b[39m\"\u001b[39m\u001b[39m/mnt/d/Work/Dissertation/Preprocessing/VNIR-Field1/\u001b[39m\u001b[39m\"\u001b[39m\n\u001b[1;32m----> <a href='vscode-notebook-cell:/d%3A/Work/Autoenc/hyperspectral-autoencoders-master/autoenc_scratch/dimensenc-hyp-v1.ipynb#ch0000001?line=4'>5</a>\u001b[0m onlyfiles \u001b[39m=\u001b[39m [ f \u001b[39mfor\u001b[39;00m f \u001b[39min\u001b[39;00m listdir(path) \u001b[39mif\u001b[39;00m isfile(join(path,f)) ]\n\u001b[0;32m      <a href='vscode-notebook-cell:/d%3A/Work/Autoenc/hyperspectral-autoencoders-master/autoenc_scratch/dimensenc-hyp-v1.ipynb#ch0000001?line=5'>6</a>\u001b[0m \u001b[39mimport\u001b[39;00m \u001b[39mtorch\u001b[39;00m\n",
      "\u001b[1;31mFileNotFoundError\u001b[0m: [WinError 3] The system cannot find the path specified: '/mnt/d/Work/Dissertation/Preprocessing/VNIR-Field1/'"
     ]
    }
   ],
   "source": [
    "from os import listdir\n",
    "from os.path import isfile, join\n",
    "import glob\n",
    "path = \"/mnt/d/Work/Dissertation/Preprocessing/VNIR-Field1/\"\n",
    "onlyfiles = [ f for f in listdir(path) if isfile(join(path,f)) ]\n",
    "import torch\n"
   ]
  },
  {
   "cell_type": "code",
   "execution_count": 3,
   "metadata": {},
   "outputs": [],
   "source": [
    "import struct\n",
    "import numpy as np\n",
    "from PIL import Image\n",
    "import os\n",
    "import matplotlib.pyplot as plt\n",
    "from torchvision.transforms import ToTensor"
   ]
  },
  {
   "cell_type": "code",
   "execution_count": 4,
   "metadata": {},
   "outputs": [],
   "source": [
    "tensordata=[]\n",
    "imgdata=[]\n",
    "for n in range(0,len(onlyfiles)):\n",
    "    with open(\"/mnt/d/Work/Dissertation/Preprocessing/VNIR-Field1/F01 (\"+str(n)+\")\", \"rb\") as f:\n",
    "        img = np.zeros((270,200,200))\n",
    "        simg = np.zeros((270,164,164))\n",
    "        for c in range(270):\n",
    "            for i in range(200):\n",
    "                for j in range(200):\n",
    "                    pix = f.read(8)\n",
    "                    if pix:\n",
    "                        # Do stuff with byte.\n",
    "                        val = struct.unpack('d',pix)\n",
    "                        #print(\"img[{},{},{}] = {:.3f} {} \".format(c,i,j,val[0],img[c,i,j]), end = '')\n",
    "                        img[c,i,j] = val[0]\n",
    "                        \n",
    "            im = Image.fromarray(img[c])\n",
    "            \n",
    "    \n",
    "    imgdata.append(img)\n",
    "big_images=np.array(imgdata)\n",
    "crop_images=big_images[:,:,0:164,0:164]\n",
    "del imgdata\n",
    "del big_images\n",
    "        "
   ]
  },
  {
   "cell_type": "code",
   "execution_count": 5,
   "metadata": {},
   "outputs": [
    {
     "data": {
      "text/plain": [
       "(51, 270, 164, 164)"
      ]
     },
     "execution_count": 5,
     "metadata": {},
     "output_type": "execute_result"
    }
   ],
   "source": [
    "\"\"\"with open(\"periya_images.pickle\",\"wb\") as f:\n",
    "    pickle.dump(crop_images,f)\"\"\"\n",
    "\n",
    "with open(\"periya_images.pickle\",\"rb\") as f:\n",
    "    crop_images=pickle.load(f)\n",
    "crop_images.shape"
   ]
  },
  {
   "cell_type": "code",
   "execution_count": 5,
   "metadata": {},
   "outputs": [
    {
     "data": {
      "text/plain": [
       "tensor([[[[0.0901, 0.0905, 0.0909,  ..., 0.0708, 0.0704, 0.0711],\n",
       "          [0.1018, 0.0931, 0.0869,  ..., 0.0703, 0.0711, 0.0657],\n",
       "          [0.0925, 0.0898, 0.0857,  ..., 0.0711, 0.0665, 0.0582],\n",
       "          ...,\n",
       "          [0.0639, 0.0603, 0.0551,  ..., 0.0586, 0.0780, 0.1233],\n",
       "          [0.0630, 0.0481, 0.0684,  ..., 0.0786, 0.1079, 0.1404],\n",
       "          [0.0623, 0.0571, 0.0522,  ..., 0.0702, 0.1402, 0.2073]],\n",
       "\n",
       "         [[0.0966, 0.0971, 0.1000,  ..., 0.0726, 0.0717, 0.0763],\n",
       "          [0.1085, 0.1008, 0.1035,  ..., 0.0714, 0.0763, 0.0812],\n",
       "          [0.0949, 0.1021, 0.1045,  ..., 0.0763, 0.0804, 0.0879],\n",
       "          ...,\n",
       "          [0.0612, 0.0580, 0.0555,  ..., 0.0677, 0.0934, 0.1563],\n",
       "          [0.0615, 0.0543, 0.0558,  ..., 0.0960, 0.1360, 0.1765],\n",
       "          [0.0634, 0.0579, 0.0566,  ..., 0.0713, 0.1809, 0.2196]],\n",
       "\n",
       "         [[0.0996, 0.0891, 0.1016,  ..., 0.0691, 0.0695, 0.0647],\n",
       "          [0.1112, 0.0994, 0.1025,  ..., 0.0698, 0.0647, 0.0610],\n",
       "          [0.0944, 0.0976, 0.1035,  ..., 0.0647, 0.0616, 0.0560],\n",
       "          ...,\n",
       "          [0.0580, 0.0598, 0.0611,  ..., 0.0739, 0.0925, 0.1393],\n",
       "          [0.0595, 0.0609, 0.0625,  ..., 0.0962, 0.1335, 0.1725],\n",
       "          [0.0642, 0.0622, 0.0482,  ..., 0.0887, 0.1860, 0.2300]],\n",
       "\n",
       "         ...,\n",
       "\n",
       "         [[0.3284, 0.3725, 0.3537,  ..., 0.2822, 0.2814, 0.2670],\n",
       "          [0.3345, 0.3591, 0.3487,  ..., 0.2825, 0.2670, 0.2537],\n",
       "          [0.3829, 0.3491, 0.3412,  ..., 0.2670, 0.2558, 0.2355],\n",
       "          ...,\n",
       "          [0.2924, 0.3127, 0.3331,  ..., 0.2879, 0.2752, 0.2598],\n",
       "          [0.3473, 0.3095, 0.3632,  ..., 0.2841, 0.3055, 0.3367],\n",
       "          [0.3457, 0.3001, 0.3070,  ..., 0.2525, 0.3757, 0.4012]],\n",
       "\n",
       "         [[0.0000, 0.0000, 0.0000,  ..., 0.0000, 0.0000, 0.0000],\n",
       "          [0.0000, 0.0000, 0.0000,  ..., 0.0000, 0.0000, 0.0000],\n",
       "          [0.0000, 0.0000, 0.0000,  ..., 0.0000, 0.0000, 0.0000],\n",
       "          ...,\n",
       "          [0.0000, 0.0000, 0.0000,  ..., 0.0000, 0.0000, 0.0000],\n",
       "          [0.0000, 0.0000, 0.0000,  ..., 0.0000, 0.0000, 0.0000],\n",
       "          [0.0000, 0.0000, 0.0000,  ..., 0.0000, 0.0000, 0.0000]],\n",
       "\n",
       "         [[0.0000, 0.0000, 0.0000,  ..., 0.0000, 0.0000, 0.0000],\n",
       "          [0.0000, 0.0000, 0.0000,  ..., 0.0000, 0.0000, 0.0000],\n",
       "          [0.0000, 0.0000, 0.0000,  ..., 0.0000, 0.0000, 0.0000],\n",
       "          ...,\n",
       "          [0.0000, 0.0000, 0.0000,  ..., 0.0000, 0.0000, 0.0000],\n",
       "          [0.0000, 0.0000, 0.0000,  ..., 0.0000, 0.0000, 0.0000],\n",
       "          [0.0000, 0.0000, 0.0000,  ..., 0.0000, 0.0000, 0.0000]]],\n",
       "\n",
       "\n",
       "        [[[0.0843, 0.0833, 0.0761,  ..., 0.0934, 0.0923, 0.0946],\n",
       "          [0.0802, 0.0762, 0.0913,  ..., 0.0904, 0.0855, 0.0931],\n",
       "          [0.0763, 0.0733, 0.0762,  ..., 0.0935, 0.1016, 0.0770],\n",
       "          ...,\n",
       "          [0.0696, 0.0708, 0.0662,  ..., 0.1130, 0.2123, 0.1491],\n",
       "          [0.0796, 0.0623, 0.0612,  ..., 0.1547, 0.1610, 0.1835],\n",
       "          [0.0751, 0.0674, 0.0784,  ..., 0.1105, 0.2011, 0.2026]],\n",
       "\n",
       "         [[0.0802, 0.0855, 0.0794,  ..., 0.1051, 0.1003, 0.1041],\n",
       "          [0.0798, 0.0689, 0.0793,  ..., 0.0814, 0.1115, 0.1124],\n",
       "          [0.0661, 0.0941, 0.0895,  ..., 0.0943, 0.1076, 0.1093],\n",
       "          ...,\n",
       "          [0.0711, 0.0703, 0.0660,  ..., 0.1201, 0.2191, 0.1534],\n",
       "          [0.0730, 0.0763, 0.0807,  ..., 0.1672, 0.1674, 0.1926],\n",
       "          [0.0875, 0.0680, 0.0743,  ..., 0.1105, 0.2009, 0.2289]],\n",
       "\n",
       "         [[0.0744, 0.0791, 0.0712,  ..., 0.0941, 0.1015, 0.1088],\n",
       "          [0.0888, 0.0734, 0.0753,  ..., 0.0916, 0.1024, 0.0922],\n",
       "          [0.0838, 0.0964, 0.0874,  ..., 0.0897, 0.1098, 0.1063],\n",
       "          ...,\n",
       "          [0.0659, 0.0627, 0.0615,  ..., 0.1167, 0.2375, 0.1820],\n",
       "          [0.0641, 0.0562, 0.0645,  ..., 0.1585, 0.1758, 0.2088],\n",
       "          [0.0777, 0.0640, 0.0768,  ..., 0.1135, 0.2285, 0.2365]],\n",
       "\n",
       "         ...,\n",
       "\n",
       "         [[0.2723, 0.3128, 0.3094,  ..., 0.3549, 0.3746, 0.3397],\n",
       "          [0.3054, 0.3112, 0.2800,  ..., 0.3840, 0.3113, 0.3462],\n",
       "          [0.3246, 0.2908, 0.3501,  ..., 0.3431, 0.3523, 0.3346],\n",
       "          ...,\n",
       "          [0.2873, 0.3133, 0.3262,  ..., 0.3229, 0.4167, 0.4609],\n",
       "          [0.3112, 0.2985, 0.3664,  ..., 0.3756, 0.3792, 0.4095],\n",
       "          [0.3283, 0.3055, 0.3422,  ..., 0.3300, 0.3832, 0.4359]],\n",
       "\n",
       "         [[0.0000, 0.0000, 0.0000,  ..., 0.0000, 0.0000, 0.0000],\n",
       "          [0.0000, 0.0000, 0.0000,  ..., 0.0000, 0.0000, 0.0000],\n",
       "          [0.0000, 0.0000, 0.0000,  ..., 0.0000, 0.0000, 0.0000],\n",
       "          ...,\n",
       "          [0.0000, 0.0000, 0.0000,  ..., 0.0000, 0.0000, 0.0000],\n",
       "          [0.0000, 0.0000, 0.0000,  ..., 0.0000, 0.0000, 0.0000],\n",
       "          [0.0000, 0.0000, 0.0000,  ..., 0.0000, 0.0000, 0.0000]],\n",
       "\n",
       "         [[0.0000, 0.0000, 0.0000,  ..., 0.0000, 0.0000, 0.0000],\n",
       "          [0.0000, 0.0000, 0.0000,  ..., 0.0000, 0.0000, 0.0000],\n",
       "          [0.0000, 0.0000, 0.0000,  ..., 0.0000, 0.0000, 0.0000],\n",
       "          ...,\n",
       "          [0.0000, 0.0000, 0.0000,  ..., 0.0000, 0.0000, 0.0000],\n",
       "          [0.0000, 0.0000, 0.0000,  ..., 0.0000, 0.0000, 0.0000],\n",
       "          [0.0000, 0.0000, 0.0000,  ..., 0.0000, 0.0000, 0.0000]]],\n",
       "\n",
       "\n",
       "        [[[0.0593, 0.0552, 0.0555,  ..., 0.0497, 0.0475, 0.0523],\n",
       "          [0.0463, 0.0588, 0.0507,  ..., 0.0571, 0.0605, 0.0495],\n",
       "          [0.0475, 0.0613, 0.0566,  ..., 0.0501, 0.0605, 0.0484],\n",
       "          ...,\n",
       "          [0.0559, 0.0467, 0.0529,  ..., 0.0533, 0.1922, 0.1256],\n",
       "          [0.0547, 0.0553, 0.0579,  ..., 0.0737, 0.1117, 0.1604],\n",
       "          [0.0510, 0.0514, 0.0577,  ..., 0.0797, 0.1128, 0.1721]],\n",
       "\n",
       "         [[0.0558, 0.0495, 0.0564,  ..., 0.0527, 0.0525, 0.0492],\n",
       "          [0.0494, 0.0711, 0.0532,  ..., 0.0464, 0.0492, 0.0617],\n",
       "          [0.0683, 0.0646, 0.0617,  ..., 0.0496, 0.0538, 0.0682],\n",
       "          ...,\n",
       "          [0.0663, 0.0523, 0.0532,  ..., 0.0566, 0.0924, 0.1454],\n",
       "          [0.0576, 0.0499, 0.0590,  ..., 0.0592, 0.0853, 0.1211],\n",
       "          [0.0489, 0.0446, 0.0586,  ..., 0.0661, 0.0820, 0.1047]],\n",
       "\n",
       "         [[0.0592, 0.0614, 0.0543,  ..., 0.0457, 0.0581, 0.0579],\n",
       "          [0.0573, 0.0634, 0.0591,  ..., 0.0630, 0.0473, 0.0535],\n",
       "          [0.0576, 0.0556, 0.0477,  ..., 0.0432, 0.0531, 0.0592],\n",
       "          ...,\n",
       "          [0.0623, 0.0505, 0.0550,  ..., 0.0607, 0.0921, 0.1455],\n",
       "          [0.0482, 0.0560, 0.0580,  ..., 0.0601, 0.0873, 0.1253],\n",
       "          [0.0512, 0.0612, 0.0501,  ..., 0.0587, 0.0752, 0.1063]],\n",
       "\n",
       "         ...,\n",
       "\n",
       "         [[0.2725, 0.2610, 0.2475,  ..., 0.3140, 0.2644, 0.2822],\n",
       "          [0.2546, 0.2683, 0.2868,  ..., 0.3078, 0.2894, 0.3110],\n",
       "          [0.2458, 0.2755, 0.2200,  ..., 0.3078, 0.2858, 0.2863],\n",
       "          ...,\n",
       "          [0.3141, 0.2725, 0.3095,  ..., 0.3613, 0.3038, 0.3666],\n",
       "          [0.3391, 0.3401, 0.2960,  ..., 0.3260, 0.3440, 0.3379],\n",
       "          [0.3391, 0.2976, 0.3231,  ..., 0.3386, 0.3127, 0.3277]],\n",
       "\n",
       "         [[0.0000, 0.0000, 0.0000,  ..., 0.0000, 0.0000, 0.0000],\n",
       "          [0.0000, 0.0000, 0.0000,  ..., 0.0000, 0.0000, 0.0000],\n",
       "          [0.0000, 0.0000, 0.0000,  ..., 0.0000, 0.0000, 0.0000],\n",
       "          ...,\n",
       "          [0.0000, 0.0000, 0.0000,  ..., 0.0000, 0.0000, 0.0000],\n",
       "          [0.0000, 0.0000, 0.0000,  ..., 0.0000, 0.0000, 0.0000],\n",
       "          [0.0000, 0.0000, 0.0000,  ..., 0.0000, 0.0000, 0.0000]],\n",
       "\n",
       "         [[0.0000, 0.0000, 0.0000,  ..., 0.0000, 0.0000, 0.0000],\n",
       "          [0.0000, 0.0000, 0.0000,  ..., 0.0000, 0.0000, 0.0000],\n",
       "          [0.0000, 0.0000, 0.0000,  ..., 0.0000, 0.0000, 0.0000],\n",
       "          ...,\n",
       "          [0.0000, 0.0000, 0.0000,  ..., 0.0000, 0.0000, 0.0000],\n",
       "          [0.0000, 0.0000, 0.0000,  ..., 0.0000, 0.0000, 0.0000],\n",
       "          [0.0000, 0.0000, 0.0000,  ..., 0.0000, 0.0000, 0.0000]]],\n",
       "\n",
       "\n",
       "        ...,\n",
       "\n",
       "\n",
       "        [[[0.0468, 0.0357, 0.0441,  ..., 0.0255, 0.0372, 0.0554],\n",
       "          [0.0558, 0.0591, 0.0407,  ..., 0.0419, 0.0363, 0.0411],\n",
       "          [0.0581, 0.0368, 0.0509,  ..., 0.0380, 0.0395, 0.0372],\n",
       "          ...,\n",
       "          [0.0550, 0.0491, 0.0375,  ..., 0.0447, 0.0528, 0.0894],\n",
       "          [0.0467, 0.0477, 0.0464,  ..., 0.0313, 0.0428, 0.1148],\n",
       "          [0.0419, 0.0490, 0.0503,  ..., 0.0371, 0.0491, 0.1212]],\n",
       "\n",
       "         [[0.0452, 0.0545, 0.0379,  ..., 0.0524, 0.0339, 0.0427],\n",
       "          [0.0468, 0.0535, 0.0501,  ..., 0.0536, 0.0469, 0.0437],\n",
       "          [0.0498, 0.0607, 0.0460,  ..., 0.0481, 0.0490, 0.0463],\n",
       "          ...,\n",
       "          [0.0475, 0.0600, 0.0484,  ..., 0.0500, 0.0586, 0.1016],\n",
       "          [0.0523, 0.0499, 0.0522,  ..., 0.0357, 0.0699, 0.1224],\n",
       "          [0.0433, 0.0518, 0.0567,  ..., 0.0492, 0.0677, 0.1531]],\n",
       "\n",
       "         [[0.0430, 0.0382, 0.0453,  ..., 0.0521, 0.0608, 0.0411],\n",
       "          [0.0522, 0.0420, 0.0510,  ..., 0.0460, 0.0465, 0.0483],\n",
       "          [0.0524, 0.0477, 0.0443,  ..., 0.0375, 0.0480, 0.0398],\n",
       "          ...,\n",
       "          [0.0534, 0.0498, 0.0504,  ..., 0.0491, 0.0632, 0.1054],\n",
       "          [0.0552, 0.0554, 0.0528,  ..., 0.0446, 0.0702, 0.1412],\n",
       "          [0.0637, 0.0534, 0.0548,  ..., 0.0503, 0.0850, 0.1706]],\n",
       "\n",
       "         ...,\n",
       "\n",
       "         [[0.2886, 0.2703, 0.2157,  ..., 0.2578, 0.2324, 0.2052],\n",
       "          [0.3253, 0.3032, 0.2687,  ..., 0.2210, 0.2455, 0.2264],\n",
       "          [0.2784, 0.2922, 0.3055,  ..., 0.2512, 0.2657, 0.1923],\n",
       "          ...,\n",
       "          [0.2997, 0.2781, 0.3035,  ..., 0.2467, 0.2531, 0.2791],\n",
       "          [0.2891, 0.3028, 0.2932,  ..., 0.2514, 0.2717, 0.2297],\n",
       "          [0.3315, 0.2837, 0.3022,  ..., 0.2394, 0.2357, 0.2020]],\n",
       "\n",
       "         [[0.0000, 0.0000, 0.0000,  ..., 0.0000, 0.0000, 0.0000],\n",
       "          [0.0000, 0.0000, 0.0000,  ..., 0.0000, 0.0000, 0.0000],\n",
       "          [0.0000, 0.0000, 0.0000,  ..., 0.0000, 0.0000, 0.0000],\n",
       "          ...,\n",
       "          [0.0000, 0.0000, 0.0000,  ..., 0.0000, 0.0000, 0.0000],\n",
       "          [0.0000, 0.0000, 0.0000,  ..., 0.0000, 0.0000, 0.0000],\n",
       "          [0.0000, 0.0000, 0.0000,  ..., 0.0000, 0.0000, 0.0000]],\n",
       "\n",
       "         [[0.0000, 0.0000, 0.0000,  ..., 0.0000, 0.0000, 0.0000],\n",
       "          [0.0000, 0.0000, 0.0000,  ..., 0.0000, 0.0000, 0.0000],\n",
       "          [0.0000, 0.0000, 0.0000,  ..., 0.0000, 0.0000, 0.0000],\n",
       "          ...,\n",
       "          [0.0000, 0.0000, 0.0000,  ..., 0.0000, 0.0000, 0.0000],\n",
       "          [0.0000, 0.0000, 0.0000,  ..., 0.0000, 0.0000, 0.0000],\n",
       "          [0.0000, 0.0000, 0.0000,  ..., 0.0000, 0.0000, 0.0000]]],\n",
       "\n",
       "\n",
       "        [[[0.0533, 0.0580, 0.0548,  ..., 0.0461, 0.0390, 0.0555],\n",
       "          [0.0482, 0.0544, 0.0544,  ..., 0.0496, 0.0561, 0.0567],\n",
       "          [0.0547, 0.0526, 0.0510,  ..., 0.0491, 0.0449, 0.0470],\n",
       "          ...,\n",
       "          [0.0497, 0.0470, 0.0555,  ..., 0.0889, 0.1397, 0.1563],\n",
       "          [0.0446, 0.0446, 0.0487,  ..., 0.0836, 0.1992, 0.2083],\n",
       "          [0.0463, 0.0451, 0.0509,  ..., 0.0771, 0.1304, 0.1388]],\n",
       "\n",
       "         [[0.0466, 0.0524, 0.0513,  ..., 0.0550, 0.0590, 0.0544],\n",
       "          [0.0532, 0.0500, 0.0510,  ..., 0.0547, 0.0605, 0.0611],\n",
       "          [0.0496, 0.0529, 0.0521,  ..., 0.0490, 0.0644, 0.0527],\n",
       "          ...,\n",
       "          [0.0519, 0.0482, 0.0435,  ..., 0.1075, 0.1539, 0.1657],\n",
       "          [0.0460, 0.0519, 0.0501,  ..., 0.0902, 0.2071, 0.2052],\n",
       "          [0.0528, 0.0539, 0.0478,  ..., 0.0912, 0.1453, 0.1501]],\n",
       "\n",
       "         [[0.0454, 0.0506, 0.0534,  ..., 0.0549, 0.0564, 0.0449],\n",
       "          [0.0528, 0.0494, 0.0526,  ..., 0.0559, 0.0512, 0.0549],\n",
       "          [0.0512, 0.0502, 0.0481,  ..., 0.0542, 0.0489, 0.0618],\n",
       "          ...,\n",
       "          [0.0503, 0.0513, 0.0545,  ..., 0.1013, 0.1567, 0.1744],\n",
       "          [0.0526, 0.0539, 0.0522,  ..., 0.0905, 0.2217, 0.2298],\n",
       "          [0.0501, 0.0494, 0.0475,  ..., 0.0904, 0.1304, 0.1527]],\n",
       "\n",
       "         ...,\n",
       "\n",
       "         [[0.3840, 0.3090, 0.3322,  ..., 0.3253, 0.3620, 0.3121],\n",
       "          [0.3422, 0.3403, 0.3300,  ..., 0.3328, 0.2949, 0.3648],\n",
       "          [0.3274, 0.3244, 0.3382,  ..., 0.2694, 0.3272, 0.3356],\n",
       "          ...,\n",
       "          [0.3716, 0.3725, 0.3938,  ..., 0.3130, 0.3629, 0.3802],\n",
       "          [0.3746, 0.3904, 0.3892,  ..., 0.3264, 0.3913, 0.4608],\n",
       "          [0.3626, 0.3661, 0.3847,  ..., 0.3293, 0.3478, 0.3670]],\n",
       "\n",
       "         [[0.0000, 0.0000, 0.0000,  ..., 0.0000, 0.0000, 0.0000],\n",
       "          [0.0000, 0.0000, 0.0000,  ..., 0.0000, 0.0000, 0.0000],\n",
       "          [0.0000, 0.0000, 0.0000,  ..., 0.0000, 0.0000, 0.0000],\n",
       "          ...,\n",
       "          [0.0000, 0.0000, 0.0000,  ..., 0.0000, 0.0000, 0.0000],\n",
       "          [0.0000, 0.0000, 0.0000,  ..., 0.0000, 0.0000, 0.0000],\n",
       "          [0.0000, 0.0000, 0.0000,  ..., 0.0000, 0.0000, 0.0000]],\n",
       "\n",
       "         [[0.0000, 0.0000, 0.0000,  ..., 0.0000, 0.0000, 0.0000],\n",
       "          [0.0000, 0.0000, 0.0000,  ..., 0.0000, 0.0000, 0.0000],\n",
       "          [0.0000, 0.0000, 0.0000,  ..., 0.0000, 0.0000, 0.0000],\n",
       "          ...,\n",
       "          [0.0000, 0.0000, 0.0000,  ..., 0.0000, 0.0000, 0.0000],\n",
       "          [0.0000, 0.0000, 0.0000,  ..., 0.0000, 0.0000, 0.0000],\n",
       "          [0.0000, 0.0000, 0.0000,  ..., 0.0000, 0.0000, 0.0000]]],\n",
       "\n",
       "\n",
       "        [[[0.0521, 0.0519, 0.0508,  ..., 0.0453, 0.0446, 0.0382],\n",
       "          [0.0444, 0.0506, 0.0479,  ..., 0.0597, 0.0338, 0.0594],\n",
       "          [0.0518, 0.0492, 0.0488,  ..., 0.0488, 0.0597, 0.0551],\n",
       "          ...,\n",
       "          [0.0563, 0.0533, 0.0532,  ..., 0.0475, 0.0506, 0.0482],\n",
       "          [0.0540, 0.0521, 0.0548,  ..., 0.0520, 0.0551, 0.0487],\n",
       "          [0.0529, 0.0591, 0.0532,  ..., 0.0478, 0.0492, 0.0470]],\n",
       "\n",
       "         [[0.0565, 0.0592, 0.0590,  ..., 0.0527, 0.0553, 0.0535],\n",
       "          [0.0561, 0.0586, 0.0597,  ..., 0.0473, 0.0450, 0.0570],\n",
       "          [0.0541, 0.0679, 0.0596,  ..., 0.0597, 0.0473, 0.0450],\n",
       "          ...,\n",
       "          [0.0570, 0.0577, 0.0507,  ..., 0.0455, 0.0456, 0.0461],\n",
       "          [0.0509, 0.0608, 0.0558,  ..., 0.0431, 0.0406, 0.0440],\n",
       "          [0.0295, 0.0453, 0.0558,  ..., 0.0464, 0.0467, 0.0468]],\n",
       "\n",
       "         [[0.0554, 0.0549, 0.0527,  ..., 0.0597, 0.0478, 0.0445],\n",
       "          [0.0495, 0.0508, 0.0676,  ..., 0.0562, 0.0463, 0.0393],\n",
       "          [0.0468, 0.0517, 0.0555,  ..., 0.0398, 0.0491, 0.0433],\n",
       "          ...,\n",
       "          [0.0532, 0.0536, 0.0576,  ..., 0.0461, 0.0453, 0.0508],\n",
       "          [0.0504, 0.0527, 0.0529,  ..., 0.0386, 0.0451, 0.0439],\n",
       "          [0.0616, 0.0470, 0.0511,  ..., 0.0470, 0.0467, 0.0486]],\n",
       "\n",
       "         ...,\n",
       "\n",
       "         [[0.3875, 0.3077, 0.2934,  ..., 0.2517, 0.2582, 0.2713],\n",
       "          [0.3385, 0.3283, 0.3259,  ..., 0.2796, 0.2987, 0.3440],\n",
       "          [0.3393, 0.3056, 0.2937,  ..., 0.3157, 0.2305, 0.2514],\n",
       "          ...,\n",
       "          [0.2927, 0.3257, 0.3452,  ..., 0.2592, 0.2661, 0.2758],\n",
       "          [0.2668, 0.3330, 0.2980,  ..., 0.2757, 0.2730, 0.3267],\n",
       "          [0.2890, 0.2895, 0.3016,  ..., 0.2758, 0.2851, 0.2877]],\n",
       "\n",
       "         [[0.0000, 0.0000, 0.0000,  ..., 0.0000, 0.0000, 0.0000],\n",
       "          [0.0000, 0.0000, 0.0000,  ..., 0.0000, 0.0000, 0.0000],\n",
       "          [0.0000, 0.0000, 0.0000,  ..., 0.0000, 0.0000, 0.0000],\n",
       "          ...,\n",
       "          [0.0000, 0.0000, 0.0000,  ..., 0.0000, 0.0000, 0.0000],\n",
       "          [0.0000, 0.0000, 0.0000,  ..., 0.0000, 0.0000, 0.0000],\n",
       "          [0.0000, 0.0000, 0.0000,  ..., 0.0000, 0.0000, 0.0000]],\n",
       "\n",
       "         [[0.0000, 0.0000, 0.0000,  ..., 0.0000, 0.0000, 0.0000],\n",
       "          [0.0000, 0.0000, 0.0000,  ..., 0.0000, 0.0000, 0.0000],\n",
       "          [0.0000, 0.0000, 0.0000,  ..., 0.0000, 0.0000, 0.0000],\n",
       "          ...,\n",
       "          [0.0000, 0.0000, 0.0000,  ..., 0.0000, 0.0000, 0.0000],\n",
       "          [0.0000, 0.0000, 0.0000,  ..., 0.0000, 0.0000, 0.0000],\n",
       "          [0.0000, 0.0000, 0.0000,  ..., 0.0000, 0.0000, 0.0000]]]],\n",
       "       device='cuda:0')"
      ]
     },
     "execution_count": 5,
     "metadata": {},
     "output_type": "execute_result"
    }
   ],
   "source": [
    "crop_images = torch.tensor(crop_images,dtype=T.float32)\n",
    "crop_images.to(device)"
   ]
  },
  {
   "cell_type": "code",
   "execution_count": 6,
   "metadata": {},
   "outputs": [
    {
     "data": {
      "text/plain": [
       "668991488"
      ]
     },
     "execution_count": 6,
     "metadata": {},
     "output_type": "execute_result"
    }
   ],
   "source": [
    "T.cuda.memory_allocated()"
   ]
  },
  {
   "cell_type": "code",
   "execution_count": 7,
   "metadata": {},
   "outputs": [],
   "source": [
    "def force_cudnn_initialization():\n",
    "    s = 32\n",
    "    dev = torch.device('cuda')\n",
    "    torch.nn.functional.conv2d(torch.zeros(s, s, s, s, device=dev), torch.zeros(s, s, s, s, device=dev))"
   ]
  },
  {
   "cell_type": "code",
   "execution_count": 8,
   "metadata": {},
   "outputs": [],
   "source": [
    "# -----------------------------------------------------------\n",
    "\n",
    "class UciDigitsDataset(T.utils.data.Dataset):\n",
    "  def __init__(self, src_file, num_rows=None):\n",
    "    # 0,5,12,13,16, . . (64 values),9(label/digit)\n",
    "    # 1797 items\n",
    "    tmp_x = np.loadtxt(src_file, max_rows=num_rows,\n",
    "      usecols=range(0,64), delimiter=\",\", skiprows=0,\n",
    "      dtype=np.float32)\n",
    "    tmp_x /= 16\n",
    "\n",
    "    tmp_y = np.loadtxt(src_file, max_rows=num_rows,\n",
    "      usecols=64, delimiter=\",\", skiprows=0,\n",
    "      dtype=np.int64)  # used for graph, not for training\n",
    "\n",
    "    self.x_data = T.tensor(tmp_x, dtype=T.float32)\n",
    "    self.y_data = T.tensor(tmp_y, dtype=T.int64) \n",
    "\n",
    "  def __len__(self):\n",
    "    return len(self.x_data)\n",
    "\n",
    "  def __getitem__(self, idx):\n",
    "    pixels = self.x_data[idx]\n",
    "    digit = self.y_data[idx] \n",
    "    sample = { 'pixels' : pixels, 'digit' : digit }\n",
    "    return sample\n",
    "\n"
   ]
  },
  {
   "cell_type": "code",
   "execution_count": 9,
   "metadata": {},
   "outputs": [],
   "source": [
    "# -----------------------------------------------------------\n",
    "\n",
    "class Net(T.nn.Module):\n",
    "  def __init__(self):\n",
    "    super(Net, self).__init__()\n",
    "    self.enc1 = T.nn.Conv2d(270, 810, 7)  # 64-16-2-16-64\n",
    "    self.enc2 = T.nn.Conv2d(810, 540 , 7)\n",
    "    #self.pool = nn.MaxPool2d(2, 2), 7)\n",
    "    \n",
    "    self.dec1 = T.nn.ConvTranspose2d(540, 810, 7)\n",
    "    self.dec2 = T.nn.ConvTranspose2d(810, 270, 7)\n",
    "  \n",
    "    T.nn.init.xavier_uniform_(self.enc1.weight)\n",
    "    T.nn.init.zeros_(self.enc1.bias)\n",
    "    T.nn.init.xavier_uniform_(self.enc2.weight)\n",
    "    T.nn.init.zeros_(self.enc2.bias)\n",
    "    T.nn.init.xavier_uniform_(self.dec1.weight)\n",
    "    T.nn.init.zeros_(self.dec1.bias)\n",
    "    T.nn.init.xavier_uniform_(self.dec2.weight)\n",
    "    T.nn.init.zeros_(self.dec2.bias)\n",
    "\n",
    "  def encode(self, x):\n",
    "    \n",
    "    z = T.relu(self.enc1(x))\n",
    "    z = T.relu(self.enc2(z))\n",
    "     # act depends on scenario\n",
    "    return z.to(device)\n",
    "\n",
    "  def decode(self, x):\n",
    "    \n",
    "    z = T.relu(self.dec1(x))\n",
    "    z = self.dec2(z)  # no activation\n",
    "    return z   \n",
    "\n",
    "  def forward(self, x):\n",
    "    \n",
    "    z = self.encode(x)\n",
    "    z = self.decode(z)\n",
    "    return z\n",
    "\n"
   ]
  },
  {
   "cell_type": "code",
   "execution_count": 40,
   "metadata": {},
   "outputs": [],
   "source": [
    "\n",
    "force_cudnn_initialization()"
   ]
  },
  {
   "cell_type": "code",
   "execution_count": 41,
   "metadata": {},
   "outputs": [
    {
     "name": "stdout",
     "output_type": "stream",
     "text": [
      "\n",
      "Begin UCI digits auto-reduce-viz demo job \n",
      "\n",
      "Creating UCI Digits Dataset \n",
      "\n",
      "Creating 64-16-2-16-63 autoencoder \n",
      "\n",
      "bat_size =   5 \n",
      "loss = L1Loss()\n",
      "optimizer = Adam\n",
      "max_epochs =  30 \n",
      "lrn_rate = 0.010 \n",
      "\n",
      "Starting training\n"
     ]
    },
    {
     "ename": "RuntimeError",
     "evalue": "CUDA out of memory. Tried to allocate 386.00 MiB (GPU 0; 8.00 GiB total capacity; 6.01 GiB already allocated; 0 bytes free; 7.06 GiB reserved in total by PyTorch) If reserved memory is >> allocated memory try setting max_split_size_mb to avoid fragmentation.  See documentation for Memory Management and PYTORCH_CUDA_ALLOC_CONF",
     "output_type": "error",
     "traceback": [
      "\u001b[0;31m---------------------------------------------------------------------------\u001b[0m",
      "\u001b[0;31mRuntimeError\u001b[0m                              Traceback (most recent call last)",
      "\u001b[1;32m/mnt/d/Work/Autoenc/hyperspectral-autoencoders-master/hyperspectral-autoencoders-master/autoenc_scratch/dimensenc-hyp-v1.ipynb Cell 12'\u001b[0m in \u001b[0;36m<cell line: 41>\u001b[0;34m()\u001b[0m\n\u001b[1;32m     <a href='vscode-notebook-cell://wsl%2Bubuntu/mnt/d/Work/Autoenc/hyperspectral-autoencoders-master/hyperspectral-autoencoders-master/autoenc_scratch/dimensenc-hyp-v1.ipynb#ch0000011vscode-remote?line=48'>49</a>\u001b[0m   loss_obj \u001b[39m=\u001b[39m loss_func(oupt, X)  \u001b[39m# note: X not Y\u001b[39;00m\n\u001b[1;32m     <a href='vscode-notebook-cell://wsl%2Bubuntu/mnt/d/Work/Autoenc/hyperspectral-autoencoders-master/hyperspectral-autoencoders-master/autoenc_scratch/dimensenc-hyp-v1.ipynb#ch0000011vscode-remote?line=49'>50</a>\u001b[0m   epoch_loss \u001b[39m+\u001b[39m\u001b[39m=\u001b[39m loss_obj\u001b[39m.\u001b[39mitem()  \u001b[39m# accumulate\u001b[39;00m\n\u001b[0;32m---> <a href='vscode-notebook-cell://wsl%2Bubuntu/mnt/d/Work/Autoenc/hyperspectral-autoencoders-master/hyperspectral-autoencoders-master/autoenc_scratch/dimensenc-hyp-v1.ipynb#ch0000011vscode-remote?line=50'>51</a>\u001b[0m   loss_obj\u001b[39m.\u001b[39;49mbackward()\n\u001b[1;32m     <a href='vscode-notebook-cell://wsl%2Bubuntu/mnt/d/Work/Autoenc/hyperspectral-autoencoders-master/hyperspectral-autoencoders-master/autoenc_scratch/dimensenc-hyp-v1.ipynb#ch0000011vscode-remote?line=51'>52</a>\u001b[0m   optimizer\u001b[39m.\u001b[39mstep()\n\u001b[1;32m     <a href='vscode-notebook-cell://wsl%2Bubuntu/mnt/d/Work/Autoenc/hyperspectral-autoencoders-master/hyperspectral-autoencoders-master/autoenc_scratch/dimensenc-hyp-v1.ipynb#ch0000011vscode-remote?line=53'>54</a>\u001b[0m \u001b[39mif\u001b[39;00m epoch \u001b[39m%\u001b[39m ep_log_interval \u001b[39m==\u001b[39m \u001b[39m0\u001b[39m:\n",
      "File \u001b[0;32m~/.local/lib/python3.8/site-packages/torch/_tensor.py:363\u001b[0m, in \u001b[0;36mTensor.backward\u001b[0;34m(self, gradient, retain_graph, create_graph, inputs)\u001b[0m\n\u001b[1;32m    <a href='file:///home/han/.local/lib/python3.8/site-packages/torch/_tensor.py?line=353'>354</a>\u001b[0m \u001b[39mif\u001b[39;00m has_torch_function_unary(\u001b[39mself\u001b[39m):\n\u001b[1;32m    <a href='file:///home/han/.local/lib/python3.8/site-packages/torch/_tensor.py?line=354'>355</a>\u001b[0m     \u001b[39mreturn\u001b[39;00m handle_torch_function(\n\u001b[1;32m    <a href='file:///home/han/.local/lib/python3.8/site-packages/torch/_tensor.py?line=355'>356</a>\u001b[0m         Tensor\u001b[39m.\u001b[39mbackward,\n\u001b[1;32m    <a href='file:///home/han/.local/lib/python3.8/site-packages/torch/_tensor.py?line=356'>357</a>\u001b[0m         (\u001b[39mself\u001b[39m,),\n\u001b[0;32m   (...)\u001b[0m\n\u001b[1;32m    <a href='file:///home/han/.local/lib/python3.8/site-packages/torch/_tensor.py?line=360'>361</a>\u001b[0m         create_graph\u001b[39m=\u001b[39mcreate_graph,\n\u001b[1;32m    <a href='file:///home/han/.local/lib/python3.8/site-packages/torch/_tensor.py?line=361'>362</a>\u001b[0m         inputs\u001b[39m=\u001b[39minputs)\n\u001b[0;32m--> <a href='file:///home/han/.local/lib/python3.8/site-packages/torch/_tensor.py?line=362'>363</a>\u001b[0m torch\u001b[39m.\u001b[39;49mautograd\u001b[39m.\u001b[39;49mbackward(\u001b[39mself\u001b[39;49m, gradient, retain_graph, create_graph, inputs\u001b[39m=\u001b[39;49minputs)\n",
      "File \u001b[0;32m~/.local/lib/python3.8/site-packages/torch/autograd/__init__.py:173\u001b[0m, in \u001b[0;36mbackward\u001b[0;34m(tensors, grad_tensors, retain_graph, create_graph, grad_variables, inputs)\u001b[0m\n\u001b[1;32m    <a href='file:///home/han/.local/lib/python3.8/site-packages/torch/autograd/__init__.py?line=167'>168</a>\u001b[0m     retain_graph \u001b[39m=\u001b[39m create_graph\n\u001b[1;32m    <a href='file:///home/han/.local/lib/python3.8/site-packages/torch/autograd/__init__.py?line=169'>170</a>\u001b[0m \u001b[39m# The reason we repeat same the comment below is that\u001b[39;00m\n\u001b[1;32m    <a href='file:///home/han/.local/lib/python3.8/site-packages/torch/autograd/__init__.py?line=170'>171</a>\u001b[0m \u001b[39m# some Python versions print out the first line of a multi-line function\u001b[39;00m\n\u001b[1;32m    <a href='file:///home/han/.local/lib/python3.8/site-packages/torch/autograd/__init__.py?line=171'>172</a>\u001b[0m \u001b[39m# calls in the traceback and some print out the last line\u001b[39;00m\n\u001b[0;32m--> <a href='file:///home/han/.local/lib/python3.8/site-packages/torch/autograd/__init__.py?line=172'>173</a>\u001b[0m Variable\u001b[39m.\u001b[39;49m_execution_engine\u001b[39m.\u001b[39;49mrun_backward(  \u001b[39m# Calls into the C++ engine to run the backward pass\u001b[39;49;00m\n\u001b[1;32m    <a href='file:///home/han/.local/lib/python3.8/site-packages/torch/autograd/__init__.py?line=173'>174</a>\u001b[0m     tensors, grad_tensors_, retain_graph, create_graph, inputs,\n\u001b[1;32m    <a href='file:///home/han/.local/lib/python3.8/site-packages/torch/autograd/__init__.py?line=174'>175</a>\u001b[0m     allow_unreachable\u001b[39m=\u001b[39;49m\u001b[39mTrue\u001b[39;49;00m, accumulate_grad\u001b[39m=\u001b[39;49m\u001b[39mTrue\u001b[39;49;00m)\n",
      "\u001b[0;31mRuntimeError\u001b[0m: CUDA out of memory. Tried to allocate 386.00 MiB (GPU 0; 8.00 GiB total capacity; 6.01 GiB already allocated; 0 bytes free; 7.06 GiB reserved in total by PyTorch) If reserved memory is >> allocated memory try setting max_split_size_mb to avoid fragmentation.  See documentation for Memory Management and PYTORCH_CUDA_ALLOC_CONF"
     ]
    }
   ],
   "source": [
    "# -----------------------------------------------------------\n",
    "\n",
    "force_cudnn_initialization()\n",
    "# 0. setup\n",
    "print(\"\\nBegin UCI digits auto-reduce-viz demo job \")\n",
    "T.manual_seed(1)\n",
    "np.random.seed(1)\n",
    "\n",
    "# 1. create DataLoader object\n",
    "print(\"\\nCreating UCI Digits Dataset \")\n",
    "\n",
    "train_file = \"digits_uci_test_1797.txt\"\n",
    "train_ds = UciDigitsDataset(train_file) # all 1797 rows\n",
    "  \n",
    "\n",
    "bat_size = 5\n",
    "train_ldr = T.utils.data.DataLoader(crop_images,\n",
    "batch_size=bat_size, shuffle=True)\n",
    "train_ldr\n",
    "  # 2. create network\n",
    "print(\"\\nCreating 64-16-2-16-63 autoencoder \")\n",
    "net = Net().to(\"cuda:0\")\n",
    "\n",
    "# 3. train model\n",
    "max_epochs = 30\n",
    "ep_log_interval = 10\n",
    "lrn_rate = 0.01\n",
    "\n",
    "loss_func = T.nn.MSELoss()\n",
    "loss_func = T.nn.L1Loss(reduction='sum')\n",
    "optimizer = T.optim.Adam(net.parameters(), lr=lrn_rate)\n",
    "\n",
    "print(\"\\nbat_size = %3d \" % bat_size)\n",
    "print(\"loss = \" + str(loss_func))\n",
    "print(\"optimizer = Adam\")\n",
    "print(\"max_epochs = %3d \" % max_epochs)\n",
    "print(\"lrn_rate = %0.3f \" % lrn_rate)\n",
    "\n",
    "print(\"\\nStarting training\")\n",
    "net = net.train()\n",
    "for epoch in range(0, max_epochs):\n",
    "  epoch_loss = 0  # for one full epoch\n",
    "\n",
    "  for (batch_idx, batch) in enumerate(train_ldr):\n",
    "    X = batch.to(device)  # no targets needed\n",
    "\n",
    "    optimizer.zero_grad()\n",
    "    oupt = net(X)\n",
    "    loss_obj = loss_func(oupt, X)  # note: X not Y\n",
    "    epoch_loss += loss_obj.item()  # accumulate\n",
    "    loss_obj.backward()\n",
    "    optimizer.step()\n",
    "\n",
    "  if epoch % ep_log_interval == 0:\n",
    "    print(\"epoch = %4d   loss = %0.4f\" % (epoch, epoch_loss)) \n",
    "print(\"Done \")\n",
    "\n",
    "# 4. plot digits using reduced form\n",
    "print(\"\\nCreating graph from encoded data \")\n",
    "net = net.eval()\n",
    "\n",
    "\n",
    "\n"
   ]
  },
  {
   "cell_type": "code",
   "execution_count": 11,
   "metadata": {},
   "outputs": [],
   "source": [
    "#torch.save(net.state_dict(), 'hari_model_sample.pth')\n",
    "torch.save(net, 'hari_model_struct.pth')"
   ]
  },
  {
   "cell_type": "code",
   "execution_count": 27,
   "metadata": {},
   "outputs": [
    {
     "data": {
      "text/plain": [
       "Net(\n",
       "  (enc1): Conv2d(270, 810, kernel_size=(7, 7), stride=(1, 1))\n",
       "  (enc2): Conv2d(810, 540, kernel_size=(7, 7), stride=(1, 1))\n",
       "  (dec1): ConvTranspose2d(540, 810, kernel_size=(7, 7), stride=(1, 1))\n",
       "  (dec2): ConvTranspose2d(810, 270, kernel_size=(7, 7), stride=(1, 1))\n",
       ")"
      ]
     },
     "execution_count": 27,
     "metadata": {},
     "output_type": "execute_result"
    }
   ],
   "source": [
    "#net = torch.load('hari_model_struct.pth')\n",
    "net=Net()\n",
    "net.load_state_dict(torch.load('hari_model_sample.pth'))\n",
    "net.to(device)"
   ]
  },
  {
   "cell_type": "code",
   "execution_count": 12,
   "metadata": {},
   "outputs": [],
   "source": [
    "bat_size = 5\n",
    "train_ldr = T.utils.data.DataLoader(crop_images,\n",
    "batch_size=bat_size, shuffle=True)"
   ]
  },
  {
   "cell_type": "code",
   "execution_count": 13,
   "metadata": {},
   "outputs": [],
   "source": [
    "for i in train_ldr:\n",
    "    break"
   ]
  },
  {
   "cell_type": "code",
   "execution_count": 36,
   "metadata": {},
   "outputs": [],
   "source": [
    "out=net(i.to(device))"
   ]
  },
  {
   "cell_type": "code",
   "execution_count": 37,
   "metadata": {},
   "outputs": [
    {
     "data": {
      "text/plain": [
       "<matplotlib.image.AxesImage at 0x7ff2a1636370>"
      ]
     },
     "execution_count": 37,
     "metadata": {},
     "output_type": "execute_result"
    },
    {
     "data": {
      "image/png": "[encoded data removed]",
      "text/plain": [
       "<Figure size 432x288 with 1 Axes>"
      ]
     },
     "metadata": {
      "needs_background": "light"
     },
     "output_type": "display_data"
    }
   ],
   "source": [
    "import matplotlib.pyplot as plt\n",
    "\n",
    "plt.imshow(i[0][0])"
   ]
  },
  {
   "cell_type": "code",
   "execution_count": 38,
   "metadata": {},
   "outputs": [
    {
     "data": {
      "text/plain": [
       "<matplotlib.image.AxesImage at 0x7ff2a11689a0>"
      ]
     },
     "execution_count": 38,
     "metadata": {},
     "output_type": "execute_result"
    },
    {
     "data": {
      "image/png": "[encoded data removed]",
      "text/plain": [
       "<Figure size 432x288 with 1 Axes>"
      ]
     },
     "metadata": {
      "needs_background": "light"
     },
     "output_type": "display_data"
    }
   ],
   "source": [
    "plt.imshow(out[0][2].to(\"cpu\").detach().numpy())"
   ]
  },
  {
   "cell_type": "code",
   "execution_count": 24,
   "metadata": {},
   "outputs": [
    {
     "data": {
      "text/plain": [
       "tensor(0.0136, grad_fn=<MseLossBackward0>)"
      ]
     },
     "execution_count": 24,
     "metadata": {},
     "output_type": "execute_result"
    }
   ],
   "source": [
    "loss_func(out[0][0].to(\"cpu\"), i[0][0].to(\"cpu\"))"
   ]
  },
  {
   "cell_type": "code",
   "execution_count": 34,
   "metadata": {},
   "outputs": [
    {
     "data": {
      "text/plain": [
       "tensor([[0.0901, 0.0905, 0.0909,  ..., 0.0708, 0.0704, 0.0711],\n",
       "        [0.1018, 0.0931, 0.0869,  ..., 0.0703, 0.0711, 0.0657],\n",
       "        [0.0925, 0.0898, 0.0857,  ..., 0.0711, 0.0665, 0.0582],\n",
       "        ...,\n",
       "        [0.0639, 0.0603, 0.0551,  ..., 0.0586, 0.0780, 0.1233],\n",
       "        [0.0630, 0.0481, 0.0684,  ..., 0.0786, 0.1079, 0.1404],\n",
       "        [0.0623, 0.0571, 0.0522,  ..., 0.0702, 0.1402, 0.2073]])"
      ]
     },
     "execution_count": 34,
     "metadata": {},
     "output_type": "execute_result"
    }
   ],
   "source": [
    "i[0][0]"
   ]
  },
  {
   "cell_type": "code",
   "execution_count": 39,
   "metadata": {},
   "outputs": [
    {
     "data": {
      "text/plain": [
       "tensor([[0.0495, 0.0495, 0.0495,  ..., 0.0495, 0.0495, 0.0495],\n",
       "        [0.0495, 0.0495, 0.0495,  ..., 0.0495, 0.0495, 0.0495],\n",
       "        [0.0495, 0.0495, 0.0495,  ..., 0.0495, 0.0495, 0.0495],\n",
       "        ...,\n",
       "        [0.0495, 0.0495, 0.0495,  ..., 0.0495, 0.0495, 0.0495],\n",
       "        [0.0495, 0.0495, 0.0495,  ..., 0.0495, 0.0495, 0.0495],\n",
       "        [0.0495, 0.0495, 0.0495,  ..., 0.0495, 0.0495, 0.0495]],\n",
       "       device='cuda:0', grad_fn=<SelectBackward0>)"
      ]
     },
     "execution_count": 39,
     "metadata": {},
     "output_type": "execute_result"
    }
   ],
   "source": [
    "out[0][0]"
   ]
  },
  {
   "cell_type": "code",
   "execution_count": 30,
   "metadata": {},
   "outputs": [
    {
     "ename": "RuntimeError",
     "evalue": "CUDA out of memory. Tried to allocate 1.73 GiB (GPU 0; 8.00 GiB total capacity; 4.72 GiB already allocated; 0 bytes free; 6.96 GiB reserved in total by PyTorch) If reserved memory is >> allocated memory try setting max_split_size_mb to avoid fragmentation.  See documentation for Memory Management and PYTORCH_CUDA_ALLOC_CONF",
     "output_type": "error",
     "traceback": [
      "\u001b[0;31m---------------------------------------------------------------------------\u001b[0m",
      "\u001b[0;31mRuntimeError\u001b[0m                              Traceback (most recent call last)",
      "\u001b[1;32m/mnt/d/Work/Autoenc/hyperspectral-autoencoders-master/hyperspectral-autoencoders-master/autoenc_scratch/dimensenc-hyp-v1.ipynb Cell 14'\u001b[0m in \u001b[0;36m<cell line: 1>\u001b[0;34m()\u001b[0m\n\u001b[0;32m----> <a href='vscode-notebook-cell://wsl%2Bubuntu/mnt/d/Work/Autoenc/hyperspectral-autoencoders-master/hyperspectral-autoencoders-master/autoenc_scratch/dimensenc-hyp-v1.ipynb#ch0000025vscode-remote?line=0'>1</a>\u001b[0m xy \u001b[39m=\u001b[39m net\u001b[39m.\u001b[39;49mencode(bow)\u001b[39m.\u001b[39mto(device)\n\u001b[1;32m      <a href='vscode-notebook-cell://wsl%2Bubuntu/mnt/d/Work/Autoenc/hyperspectral-autoencoders-master/hyperspectral-autoencoders-master/autoenc_scratch/dimensenc-hyp-v1.ipynb#ch0000025vscode-remote?line=1'>2</a>\u001b[0m xy \u001b[39m=\u001b[39m xy\u001b[39m.\u001b[39mto(\u001b[39m\"\u001b[39m\u001b[39mcpu\u001b[39m\u001b[39m\"\u001b[39m)\u001b[39m.\u001b[39mdetach()\u001b[39m.\u001b[39mnumpy()\n",
      "\u001b[1;32m/mnt/d/Work/Autoenc/hyperspectral-autoencoders-master/hyperspectral-autoencoders-master/autoenc_scratch/dimensenc-hyp-v1.ipynb Cell 10'\u001b[0m in \u001b[0;36mNet.encode\u001b[0;34m(self, x)\u001b[0m\n\u001b[1;32m     <a href='vscode-notebook-cell://wsl%2Bubuntu/mnt/d/Work/Autoenc/hyperspectral-autoencoders-master/hyperspectral-autoencoders-master/autoenc_scratch/dimensenc-hyp-v1.ipynb#ch0000009vscode-remote?line=21'>22</a>\u001b[0m \u001b[39mdef\u001b[39;00m \u001b[39mencode\u001b[39m(\u001b[39mself\u001b[39m, x):\n\u001b[0;32m---> <a href='vscode-notebook-cell://wsl%2Bubuntu/mnt/d/Work/Autoenc/hyperspectral-autoencoders-master/hyperspectral-autoencoders-master/autoenc_scratch/dimensenc-hyp-v1.ipynb#ch0000009vscode-remote?line=23'>24</a>\u001b[0m   z \u001b[39m=\u001b[39m T\u001b[39m.\u001b[39mrelu(\u001b[39mself\u001b[39;49m\u001b[39m.\u001b[39;49menc1(x))\n\u001b[1;32m     <a href='vscode-notebook-cell://wsl%2Bubuntu/mnt/d/Work/Autoenc/hyperspectral-autoencoders-master/hyperspectral-autoencoders-master/autoenc_scratch/dimensenc-hyp-v1.ipynb#ch0000009vscode-remote?line=24'>25</a>\u001b[0m   z \u001b[39m=\u001b[39m T\u001b[39m.\u001b[39mrelu(\u001b[39mself\u001b[39m\u001b[39m.\u001b[39menc2(z))\n\u001b[1;32m     <a href='vscode-notebook-cell://wsl%2Bubuntu/mnt/d/Work/Autoenc/hyperspectral-autoencoders-master/hyperspectral-autoencoders-master/autoenc_scratch/dimensenc-hyp-v1.ipynb#ch0000009vscode-remote?line=25'>26</a>\u001b[0m    \u001b[39m# act depends on scenario\u001b[39;00m\n",
      "File \u001b[0;32m~/.local/lib/python3.8/site-packages/torch/nn/modules/module.py:1110\u001b[0m, in \u001b[0;36mModule._call_impl\u001b[0;34m(self, *input, **kwargs)\u001b[0m\n\u001b[1;32m   <a href='file:///home/han/.local/lib/python3.8/site-packages/torch/nn/modules/module.py?line=1105'>1106</a>\u001b[0m \u001b[39m# If we don't have any hooks, we want to skip the rest of the logic in\u001b[39;00m\n\u001b[1;32m   <a href='file:///home/han/.local/lib/python3.8/site-packages/torch/nn/modules/module.py?line=1106'>1107</a>\u001b[0m \u001b[39m# this function, and just call forward.\u001b[39;00m\n\u001b[1;32m   <a href='file:///home/han/.local/lib/python3.8/site-packages/torch/nn/modules/module.py?line=1107'>1108</a>\u001b[0m \u001b[39mif\u001b[39;00m \u001b[39mnot\u001b[39;00m (\u001b[39mself\u001b[39m\u001b[39m.\u001b[39m_backward_hooks \u001b[39mor\u001b[39;00m \u001b[39mself\u001b[39m\u001b[39m.\u001b[39m_forward_hooks \u001b[39mor\u001b[39;00m \u001b[39mself\u001b[39m\u001b[39m.\u001b[39m_forward_pre_hooks \u001b[39mor\u001b[39;00m _global_backward_hooks\n\u001b[1;32m   <a href='file:///home/han/.local/lib/python3.8/site-packages/torch/nn/modules/module.py?line=1108'>1109</a>\u001b[0m         \u001b[39mor\u001b[39;00m _global_forward_hooks \u001b[39mor\u001b[39;00m _global_forward_pre_hooks):\n\u001b[0;32m-> <a href='file:///home/han/.local/lib/python3.8/site-packages/torch/nn/modules/module.py?line=1109'>1110</a>\u001b[0m     \u001b[39mreturn\u001b[39;00m forward_call(\u001b[39m*\u001b[39;49m\u001b[39minput\u001b[39;49m, \u001b[39m*\u001b[39;49m\u001b[39m*\u001b[39;49mkwargs)\n\u001b[1;32m   <a href='file:///home/han/.local/lib/python3.8/site-packages/torch/nn/modules/module.py?line=1110'>1111</a>\u001b[0m \u001b[39m# Do not call functions when jit is used\u001b[39;00m\n\u001b[1;32m   <a href='file:///home/han/.local/lib/python3.8/site-packages/torch/nn/modules/module.py?line=1111'>1112</a>\u001b[0m full_backward_hooks, non_full_backward_hooks \u001b[39m=\u001b[39m [], []\n",
      "File \u001b[0;32m~/.local/lib/python3.8/site-packages/torch/nn/modules/conv.py:447\u001b[0m, in \u001b[0;36mConv2d.forward\u001b[0;34m(self, input)\u001b[0m\n\u001b[1;32m    <a href='file:///home/han/.local/lib/python3.8/site-packages/torch/nn/modules/conv.py?line=445'>446</a>\u001b[0m \u001b[39mdef\u001b[39;00m \u001b[39mforward\u001b[39m(\u001b[39mself\u001b[39m, \u001b[39minput\u001b[39m: Tensor) \u001b[39m-\u001b[39m\u001b[39m>\u001b[39m Tensor:\n\u001b[0;32m--> <a href='file:///home/han/.local/lib/python3.8/site-packages/torch/nn/modules/conv.py?line=446'>447</a>\u001b[0m     \u001b[39mreturn\u001b[39;00m \u001b[39mself\u001b[39;49m\u001b[39m.\u001b[39;49m_conv_forward(\u001b[39minput\u001b[39;49m, \u001b[39mself\u001b[39;49m\u001b[39m.\u001b[39;49mweight, \u001b[39mself\u001b[39;49m\u001b[39m.\u001b[39;49mbias)\n",
      "File \u001b[0;32m~/.local/lib/python3.8/site-packages/torch/nn/modules/conv.py:443\u001b[0m, in \u001b[0;36mConv2d._conv_forward\u001b[0;34m(self, input, weight, bias)\u001b[0m\n\u001b[1;32m    <a href='file:///home/han/.local/lib/python3.8/site-packages/torch/nn/modules/conv.py?line=438'>439</a>\u001b[0m \u001b[39mif\u001b[39;00m \u001b[39mself\u001b[39m\u001b[39m.\u001b[39mpadding_mode \u001b[39m!=\u001b[39m \u001b[39m'\u001b[39m\u001b[39mzeros\u001b[39m\u001b[39m'\u001b[39m:\n\u001b[1;32m    <a href='file:///home/han/.local/lib/python3.8/site-packages/torch/nn/modules/conv.py?line=439'>440</a>\u001b[0m     \u001b[39mreturn\u001b[39;00m F\u001b[39m.\u001b[39mconv2d(F\u001b[39m.\u001b[39mpad(\u001b[39minput\u001b[39m, \u001b[39mself\u001b[39m\u001b[39m.\u001b[39m_reversed_padding_repeated_twice, mode\u001b[39m=\u001b[39m\u001b[39mself\u001b[39m\u001b[39m.\u001b[39mpadding_mode),\n\u001b[1;32m    <a href='file:///home/han/.local/lib/python3.8/site-packages/torch/nn/modules/conv.py?line=440'>441</a>\u001b[0m                     weight, bias, \u001b[39mself\u001b[39m\u001b[39m.\u001b[39mstride,\n\u001b[1;32m    <a href='file:///home/han/.local/lib/python3.8/site-packages/torch/nn/modules/conv.py?line=441'>442</a>\u001b[0m                     _pair(\u001b[39m0\u001b[39m), \u001b[39mself\u001b[39m\u001b[39m.\u001b[39mdilation, \u001b[39mself\u001b[39m\u001b[39m.\u001b[39mgroups)\n\u001b[0;32m--> <a href='file:///home/han/.local/lib/python3.8/site-packages/torch/nn/modules/conv.py?line=442'>443</a>\u001b[0m \u001b[39mreturn\u001b[39;00m F\u001b[39m.\u001b[39;49mconv2d(\u001b[39minput\u001b[39;49m, weight, bias, \u001b[39mself\u001b[39;49m\u001b[39m.\u001b[39;49mstride,\n\u001b[1;32m    <a href='file:///home/han/.local/lib/python3.8/site-packages/torch/nn/modules/conv.py?line=443'>444</a>\u001b[0m                 \u001b[39mself\u001b[39;49m\u001b[39m.\u001b[39;49mpadding, \u001b[39mself\u001b[39;49m\u001b[39m.\u001b[39;49mdilation, \u001b[39mself\u001b[39;49m\u001b[39m.\u001b[39;49mgroups)\n",
      "\u001b[0;31mRuntimeError\u001b[0m: CUDA out of memory. Tried to allocate 1.73 GiB (GPU 0; 8.00 GiB total capacity; 4.72 GiB already allocated; 0 bytes free; 6.96 GiB reserved in total by PyTorch) If reserved memory is >> allocated memory try setting max_split_size_mb to avoid fragmentation.  See documentation for Memory Management and PYTORCH_CUDA_ALLOC_CONF"
     ]
    }
   ],
   "source": [
    "bow=crop_images.to(device)\n",
    "xy = net.encode(bow).to(device)\n",
    "xy = xy.to(\"cpu\").detach().numpy()  "
   ]
  },
  {
   "cell_type": "code",
   "execution_count": null,
   "metadata": {},
   "outputs": [
    {
     "ename": "NameError",
     "evalue": "name 'train_ds' is not defined",
     "output_type": "error",
     "traceback": [
      "\u001b[0;31m---------------------------------------------------------------------------\u001b[0m",
      "\u001b[0;31mNameError\u001b[0m                                 Traceback (most recent call last)",
      "\u001b[1;32m/mnt/d/Work/Autoenc/hyperspectral-autoencoders-master/hyperspectral-autoencoders-master/autoenc_scratch/dimensenc-hyp-v1.ipynb Cell 10'\u001b[0m in \u001b[0;36m<cell line: 1>\u001b[0;34m()\u001b[0m\n\u001b[1;32m      <a href='vscode-notebook-cell://wsl%2Bubuntu/mnt/d/Work/Autoenc/hyperspectral-autoencoders-master/hyperspectral-autoencoders-master/autoenc_scratch/dimensenc-hyp-v1.ipynb#ch0000021vscode-remote?line=0'>1</a>\u001b[0m \u001b[39mwith\u001b[39;00m T\u001b[39m.\u001b[39mno_grad():\n\u001b[0;32m----> <a href='vscode-notebook-cell://wsl%2Bubuntu/mnt/d/Work/Autoenc/hyperspectral-autoencoders-master/hyperspectral-autoencoders-master/autoenc_scratch/dimensenc-hyp-v1.ipynb#ch0000021vscode-remote?line=1'>2</a>\u001b[0m   bow\u001b[39m=\u001b[39mtrain_ds[:][\u001b[39m'\u001b[39m\u001b[39mpixels\u001b[39m\u001b[39m'\u001b[39m]\n\u001b[1;32m      <a href='vscode-notebook-cell://wsl%2Bubuntu/mnt/d/Work/Autoenc/hyperspectral-autoencoders-master/hyperspectral-autoencoders-master/autoenc_scratch/dimensenc-hyp-v1.ipynb#ch0000021vscode-remote?line=2'>3</a>\u001b[0m   bow\u001b[39m=\u001b[39mcrop_images\u001b[39m.\u001b[39mto(device)\n\u001b[1;32m      <a href='vscode-notebook-cell://wsl%2Bubuntu/mnt/d/Work/Autoenc/hyperspectral-autoencoders-master/hyperspectral-autoencoders-master/autoenc_scratch/dimensenc-hyp-v1.ipynb#ch0000021vscode-remote?line=3'>4</a>\u001b[0m   xy \u001b[39m=\u001b[39m net\u001b[39m.\u001b[39mencode(bow)  \u001b[39m# (1797,2)\u001b[39;00m\n",
      "\u001b[0;31mNameError\u001b[0m: name 'train_ds' is not defined"
     ]
    }
   ],
   "source": [
    "  with T.no_grad():\n",
    "    bow=train_ds[:]['pixels']\n",
    "    bow=crop_images.to(device)\n",
    "    xy = net.encode(bow)  # (1797,2)\n",
    "  lbls = train_ds[:]['digit']  # (1797,)\n",
    "  lbls=lbls.to(device)\n",
    "  xy = xy.to(\"cpu\").detach().numpy()      # tensors to numpy arrays\n",
    "  lbls = lbls.to(\"cpu\").detach().numpy()\n",
    "  \n",
    "  \n",
    "\n",
    "  fig, ax = plt.subplots()\n",
    "  colors = ['red', 'blue', 'green', 'yellow', 'orange',\n",
    "            'black', 'brown', 'purple', 'silver', 'pink']\n",
    "  digits = [' 0 ', ' 1 ', ' 2 ', ' 3 ', ' 4 ',\n",
    "            ' 5 ', ' 6 ', ' 7 ', ' 8 ', ' 9 ']\n",
    "\n",
    "  # process by each color/class\n",
    "  for i in range(len(colors)):  # 0 to 9 each color\n",
    "    color = colors[i]\n",
    "    rows = []                   # select rows for curr color\n",
    "    for j in range(len(xy)):    # 0 to 1796\n",
    "      if lbls[j] == i:\n",
    "        rows.append(True)       # to extract rows, must use bool\n",
    "      else:\n",
    "        rows.append(False)\n",
    "\n",
    "    rows = np.array(rows, dtype=np.bool)  # list to array\n",
    "    selected = xy[rows,:]                 # like (178,2)\n",
    "\n",
    "    x = selected[:,0]  # like (178,)\n",
    "    y = selected[:,1]\n",
    "    scatter  = ax.scatter(x, y, c=color, s=20, alpha=0.9)\n",
    "    # and continue on to next color/class\n",
    "\n",
    "  txt = \"\\n\" + \"0=red \\n\" + \"1=blue \\n\" + \"2=green \\n\" + \\\n",
    "    \"3=yellow \\n\" + \"4=orange \\n\" + \"5=black \\n\" + \\\n",
    "    \"6=brown \\n\" + \"7=purple \\n\" + \"8=silver \\n\" + \"9=pink \\n\"\n",
    "\n",
    "  props = dict(boxstyle='round', facecolor='wheat', alpha=0.95)\n",
    "  ax.text(0.95, 0.95, txt, transform=ax.transAxes, fontsize=8,\n",
    "    verticalalignment='top', bbox=props)\n",
    "  ax.grid(True)\n",
    "  plt.xlabel('component 1')\n",
    "  plt.ylabel('component 2')\n",
    "  plt.show()\n",
    "\n",
    "  print(\"\\nEnd UCI digits auto-reduce-viz demo\")\n",
    "\n",
    "\n",
    "main()"
   ]
  },
  {
   "cell_type": "code",
   "execution_count": null,
   "metadata": {},
   "outputs": [],
   "source": [
    "bow"
   ]
  },
  {
   "cell_type": "code",
   "execution_count": null,
   "metadata": {},
   "outputs": [
    {
     "data": {
      "text/plain": [
       "<__main__.UciDigitsDataset at 0x7f47986f0910>"
      ]
     },
     "execution_count": 14,
     "metadata": {},
     "output_type": "execute_result"
    }
   ],
   "source": [
    "train_ds"
   ]
  },
  {
   "cell_type": "code",
   "execution_count": null,
   "metadata": {},
   "outputs": [],
   "source": [
    "train_file = \"digits_uci_test_1797.txt\"\n",
    "train_ds = UciDigitsDataset(train_file)"
   ]
  },
  {
   "cell_type": "code",
   "execution_count": null,
   "metadata": {},
   "outputs": [
    {
     "ename": "AttributeError",
     "evalue": "'function' object has no attribute 'lbls'",
     "output_type": "error",
     "traceback": [
      "\u001b[1;31m---------------------------------------------------------------------------\u001b[0m",
      "\u001b[1;31mAttributeError\u001b[0m                            Traceback (most recent call last)",
      "\u001b[1;32md:\\Work\\Autoenc\\hyperspectral-autoencoders-master\\hyperspectral-autoencoders-master\\autoenc_scratch\\dimensenc.ipynb Cell 10'\u001b[0m in \u001b[0;36m<cell line: 1>\u001b[1;34m()\u001b[0m\n\u001b[1;32m----> <a href='vscode-notebook-cell:/d%3A/Work/Autoenc/hyperspectral-autoencoders-master/hyperspectral-autoencoders-master/autoenc_scratch/dimensenc.ipynb#ch0000009?line=0'>1</a>\u001b[0m main\u001b[39m.\u001b[39;49mlbls\n",
      "\u001b[1;31mAttributeError\u001b[0m: 'function' object has no attribute 'lbls'"
     ]
    }
   ],
   "source": [
    "main.lbls"
   ]
  },
  {
   "cell_type": "code",
   "execution_count": null,
   "metadata": {},
   "outputs": [
    {
     "name": "stdout",
     "output_type": "stream",
     "text": [
      "\n",
      "Begin UCI digits auto-reduce-viz demo job \n",
      "\n",
      "Creating UCI Digits Dataset \n",
      "\n",
      "Creating 64-16-2-16-63 autoencoder \n",
      "\n",
      "bat_size =  10 \n",
      "loss = MSELoss()\n",
      "optimizer = Adam\n",
      "max_epochs = 200 \n",
      "lrn_rate = 0.010 \n",
      "\n",
      "Starting training\n",
      "epoch =    0   loss = 12.8925\n",
      "epoch =   10   loss = 9.6286\n",
      "epoch =   20   loss = 9.5646\n",
      "epoch =   30   loss = 9.5787\n",
      "epoch =   40   loss = 9.5534\n",
      "epoch =   50   loss = 9.5522\n",
      "epoch =   60   loss = 9.5734\n",
      "epoch =   70   loss = 9.5510\n",
      "epoch =   80   loss = 9.5390\n",
      "epoch =   90   loss = 9.5537\n",
      "epoch =  100   loss = 9.5416\n",
      "epoch =  110   loss = 9.5543\n",
      "epoch =  120   loss = 9.5289\n",
      "epoch =  130   loss = 9.5342\n",
      "epoch =  140   loss = 9.5596\n",
      "epoch =  150   loss = 9.5455\n",
      "epoch =  160   loss = 9.5462\n",
      "epoch =  170   loss = 9.5367\n",
      "epoch =  180   loss = 9.5306\n",
      "epoch =  190   loss = 9.5236\n",
      "Done \n",
      "\n",
      "Creating graph from encoded data \n"
     ]
    },
    {
     "name": "stderr",
     "output_type": "stream",
     "text": [
      "C:\\Users\\naras\\AppData\\Local\\Temp\\ipykernel_22272\\3634218673.py:88: DeprecationWarning: `np.bool` is a deprecated alias for the builtin `bool`. To silence this warning, use `bool` by itself. Doing this will not modify any behavior and is safe. If you specifically wanted the numpy scalar type, use `np.bool_` here.\n",
      "Deprecated in NumPy 1.20; for more details and guidance: https://numpy.org/devdocs/release/1.20.0-notes.html#deprecations\n",
      "  rows = np.array(rows, dtype=np.bool)  # list to array\n"
     ]
    },
    {
     "data": {
      "image/png": "[encoded data removed]",
      "text/plain": [
       "<Figure size 432x288 with 1 Axes>"
      ]
     },
     "metadata": {
      "needs_background": "light"
     },
     "output_type": "display_data"
    },
    {
     "name": "stdout",
     "output_type": "stream",
     "text": [
      "\n",
      "End UCI digits auto-reduce-viz demo\n"
     ]
    }
   ],
   "source": [
    "# -----------------------------------------------------------\n",
    "\n",
    "\n",
    "# 0. setup\n",
    "print(\"\\nBegin UCI digits auto-reduce-viz demo job \")\n",
    "T.manual_seed(1)\n",
    "np.random.seed(1)\n",
    "\n",
    "# 1. create DataLoader object\n",
    "print(\"\\nCreating UCI Digits Dataset \")\n",
    "\n",
    "train_file = \"digits_uci_test_1797.txt\"\n",
    "train_ds = UciDigitsDataset(train_file) # all 1797 rows\n",
    "\n",
    "\n",
    "bat_size = 10\n",
    "train_ldr = T.utils.data.DataLoader(train_ds,\n",
    "batch_size=bat_size, shuffle=True)\n",
    "\n",
    "# 2. create network\n",
    "print(\"\\nCreating 64-16-2-16-63 autoencoder \")\n",
    "net = Net().to(\"cuda:0\")\n",
    "\n",
    "# 3. train model\n",
    "max_epochs = 200\n",
    "ep_log_interval = 10\n",
    "lrn_rate = 0.01\n",
    "\n",
    "loss_func = T.nn.MSELoss()\n",
    "optimizer = T.optim.Adam(net.parameters(), lr=lrn_rate)\n",
    "\n",
    "print(\"\\nbat_size = %3d \" % bat_size)\n",
    "print(\"loss = \" + str(loss_func))\n",
    "print(\"optimizer = Adam\")\n",
    "print(\"max_epochs = %3d \" % max_epochs)\n",
    "print(\"lrn_rate = %0.3f \" % lrn_rate)\n",
    "\n",
    "print(\"\\nStarting training\")\n",
    "net = net.train()\n",
    "for epoch in range(0, max_epochs):\n",
    "    epoch_loss = 0  # for one full epoch\n",
    "\n",
    "    for (batch_idx, batch) in enumerate(train_ldr):\n",
    "        X = batch['pixels'].to(device)  # no targets needed\n",
    "\n",
    "        optimizer.zero_grad()\n",
    "        oupt = net(X)\n",
    "        loss_obj = loss_func(oupt, X)  # note: X not Y\n",
    "        epoch_loss += loss_obj.item()  # accumulate\n",
    "        loss_obj.backward()\n",
    "        optimizer.step()\n",
    "\n",
    "    if epoch % ep_log_interval == 0:\n",
    "        print(\"epoch = %4d   loss = %0.4f\" % (epoch, epoch_loss))\n",
    "print(\"Done \")\n",
    "\n",
    "# 4. plot digits using reduced form\n",
    "print(\"\\nCreating graph from encoded data \")\n",
    "net = net.eval()\n",
    "\n",
    "with T.no_grad():\n",
    "    bow=train_ds[:]['pixels']\n",
    "    bow=bow.to(device)\n",
    "    xy = net.encode(bow)  # (1797,2)\n",
    "    lbls = train_ds[:]['digit']  # (1797,)\n",
    "    lbls=lbls.to(device)\n",
    "    xy = xy.to(\"cpu\").detach().numpy()      # tensors to numpy arrays\n",
    "    lbls = lbls.to(\"cpu\").detach().numpy()\n",
    "\n",
    "\n",
    "\n",
    "fig, ax = plt.subplots()\n",
    "colors = ['red', 'blue', 'green', 'yellow', 'orange',\n",
    "        'black', 'brown', 'purple', 'silver', 'pink']\n",
    "digits = [' 0 ', ' 1 ', ' 2 ', ' 3 ', ' 4 ',\n",
    "        ' 5 ', ' 6 ', ' 7 ', ' 8 ', ' 9 ']\n",
    "\n",
    "# process by each color/class\n",
    "for i in range(len(colors)):  # 0 to 9 each color\n",
    "    color = colors[i]\n",
    "rows = []                   # select rows for curr color\n",
    "for j in range(len(xy)):    # 0 to 1796\n",
    "    if lbls[j] == i:\n",
    "        rows.append(True)       # to extract rows, must use bool\n",
    "    else:\n",
    "        rows.append(False)\n",
    "\n",
    "rows = np.array(rows, dtype=np.bool)  # list to array\n",
    "selected = xy[rows,:]                 # like (178,2)\n",
    "\n",
    "x = selected[:,0]  # like (178,)\n",
    "y = selected[:,1]\n",
    "scatter  = ax.scatter(x, y, c=color, s=20, alpha=0.9)\n",
    "# and continue on to next color/class\n",
    "\n",
    "txt = \"\\n\" + \"0=red \\n\" + \"1=blue \\n\" + \"2=green \\n\" + \\\n",
    "\"3=yellow \\n\" + \"4=orange \\n\" + \"5=black \\n\" + \\\n",
    "\"6=brown \\n\" + \"7=purple \\n\" + \"8=silver \\n\" + \"9=pink \\n\"\n",
    "\n",
    "props = dict(boxstyle='round', facecolor='wheat', alpha=0.95)\n",
    "ax.text(0.95, 0.95, txt, transform=ax.transAxes, fontsize=8,\n",
    "verticalalignment='top', bbox=props)\n",
    "ax.grid(True)\n",
    "plt.xlabel('component 1')\n",
    "plt.ylabel('component 2')\n",
    "plt.show()\n",
    "\n",
    "print(\"\\nEnd UCI digits auto-reduce-viz demo\")\n"
   ]
  },
  {
   "cell_type": "code",
   "execution_count": null,
   "metadata": {},
   "outputs": [
    {
     "data": {
      "text/plain": [
       "(1797,)"
      ]
     },
     "execution_count": 51,
     "metadata": {},
     "output_type": "execute_result"
    }
   ],
   "source": [
    "lbls.shape"
   ]
  },
  {
   "cell_type": "code",
   "execution_count": null,
   "metadata": {},
   "outputs": [
    {
     "data": {
      "text/plain": [
       "array([0, 1, 2, ..., 8, 9, 8], dtype=int64)"
      ]
     },
     "execution_count": 52,
     "metadata": {},
     "output_type": "execute_result"
    }
   ],
   "source": [
    "lbls"
   ]
  },
  {
   "cell_type": "code",
   "execution_count": null,
   "metadata": {},
   "outputs": [
    {
     "data": {
      "text/plain": [
       "array([[-0.33565748, -0.47481167],\n",
       "       [ 0.19041975,  0.4055456 ],\n",
       "       [ 0.03710113,  0.21429588],\n",
       "       ...,\n",
       "       [-0.05721175,  0.2128464 ],\n",
       "       [-0.12599765, -0.35841206],\n",
       "       [-0.09402857, -0.17140493]], dtype=float32)"
      ]
     },
     "execution_count": 53,
     "metadata": {},
     "output_type": "execute_result"
    }
   ],
   "source": [
    "xy"
   ]
  },
  {
   "cell_type": "code",
   "execution_count": null,
   "metadata": {},
   "outputs": [
    {
     "data": {
      "text/plain": [
       "<matplotlib.collections.PathCollection at 0x2c33fb4a140>"
      ]
     },
     "execution_count": 60,
     "metadata": {},
     "output_type": "execute_result"
    },
    {
     "data": {
      "image/png": "[encoded data removed]",
      "text/plain": [
       "<Figure size 432x288 with 1 Axes>"
      ]
     },
     "metadata": {
      "needs_background": "light"
     },
     "output_type": "display_data"
    }
   ],
   "source": [
    "plt.scatter(xy[:,0],xy[:,1])"
   ]
  },
  {
   "cell_type": "code",
   "execution_count": null,
   "metadata": {},
   "outputs": [
    {
     "data": {
      "text/plain": [
       "(1797,)"
      ]
     },
     "execution_count": 59,
     "metadata": {},
     "output_type": "execute_result"
    }
   ],
   "source": [
    "xy[:,0].shape"
   ]
  },
  {
   "cell_type": "code",
   "execution_count": null,
   "metadata": {},
   "outputs": [
    {
     "data": {
      "text/plain": [
       "(1797,)"
      ]
     },
     "metadata": {},
     "output_type": "display_data"
    }
   ],
   "source": [
    "xy[:,0].shape"
   ]
  },
  {
   "cell_type": "code",
   "execution_count": null,
   "metadata": {},
   "outputs": [],
   "source": []
  }
 ],
 "metadata": {
  "interpreter": {
   "hash": "c45679c4b922573c389ec5dd8dcc757da37be2eec0ee6491b92f5e1f9acb8ea9"
  },
  "kernelspec": {
   "display_name": "Python 3.10.5 64-bit",
   "language": "python",
   "name": "python3"
  },
  "language_info": {
   "codemirror_mode": {
    "name": "ipython",
    "version": 3
   },
   "file_extension": ".py",
   "mimetype": "text/x-python",
   "name": "python",
   "nbconvert_exporter": "python",
   "pygments_lexer": "ipython3",
   "version": "3.10.5"
  },
  "orig_nbformat": 4
 },
 "nbformat": 4,
 "nbformat_minor": 2
}
