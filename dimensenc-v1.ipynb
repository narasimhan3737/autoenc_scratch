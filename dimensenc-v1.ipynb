{
 "cells": [
  {
   "cell_type": "code",
   "execution_count": 2,
   "metadata": {},
   "outputs": [],
   "source": [
    "\n",
    "import numpy as np\n",
    "import matplotlib.pyplot as plt\n",
    "import torch as T\n",
    "\n",
    "device = T.device(\"cuda:0\")  # apply to Tensor or Module\n",
    "\n"
   ]
  },
  {
   "cell_type": "code",
   "execution_count": 3,
   "metadata": {},
   "outputs": [],
   "source": [
    "from os import listdir\n",
    "from os.path import isfile, join\n",
    "import glob\n",
    "path = \"/mnt/d/Work/Dissertation/Preprocessing/VNIR-Field1/\"\n",
    "onlyfiles = [ f for f in listdir(path) if isfile(join(path,f)) ]\n",
    "import torch\n"
   ]
  },
  {
   "cell_type": "code",
   "execution_count": 4,
   "metadata": {},
   "outputs": [],
   "source": [
    "import struct\n",
    "import numpy as np\n",
    "from PIL import Image\n",
    "import os\n",
    "import matplotlib.pyplot as plt\n",
    "from torchvision.transforms import ToTensor"
   ]
  },
  {
   "cell_type": "code",
   "execution_count": 5,
   "metadata": {},
   "outputs": [
    {
     "ename": "KeyboardInterrupt",
     "evalue": "",
     "output_type": "error",
     "traceback": [
      "\u001b[0;31m---------------------------------------------------------------------------\u001b[0m",
      "\u001b[0;31mKeyboardInterrupt\u001b[0m                         Traceback (most recent call last)",
      "\u001b[1;32m/mnt/d/Work/Autoenc/hyperspectral-autoencoders-master/hyperspectral-autoencoders-master/autoenc_scratch/dimensenc-v1.ipynb Cell 4'\u001b[0m in \u001b[0;36m<cell line: 3>\u001b[0;34m()\u001b[0m\n\u001b[1;32m      <a href='vscode-notebook-cell://wsl%2Bubuntu/mnt/d/Work/Autoenc/hyperspectral-autoencoders-master/hyperspectral-autoencoders-master/autoenc_scratch/dimensenc-v1.ipynb#ch0000020vscode-remote?line=7'>8</a>\u001b[0m \u001b[39mfor\u001b[39;00m i \u001b[39min\u001b[39;00m \u001b[39mrange\u001b[39m(\u001b[39m200\u001b[39m):\n\u001b[1;32m      <a href='vscode-notebook-cell://wsl%2Bubuntu/mnt/d/Work/Autoenc/hyperspectral-autoencoders-master/hyperspectral-autoencoders-master/autoenc_scratch/dimensenc-v1.ipynb#ch0000020vscode-remote?line=8'>9</a>\u001b[0m     \u001b[39mfor\u001b[39;00m j \u001b[39min\u001b[39;00m \u001b[39mrange\u001b[39m(\u001b[39m200\u001b[39m):\n\u001b[0;32m---> <a href='vscode-notebook-cell://wsl%2Bubuntu/mnt/d/Work/Autoenc/hyperspectral-autoencoders-master/hyperspectral-autoencoders-master/autoenc_scratch/dimensenc-v1.ipynb#ch0000020vscode-remote?line=9'>10</a>\u001b[0m         pix \u001b[39m=\u001b[39m f\u001b[39m.\u001b[39;49mread(\u001b[39m8\u001b[39;49m)\n\u001b[1;32m     <a href='vscode-notebook-cell://wsl%2Bubuntu/mnt/d/Work/Autoenc/hyperspectral-autoencoders-master/hyperspectral-autoencoders-master/autoenc_scratch/dimensenc-v1.ipynb#ch0000020vscode-remote?line=10'>11</a>\u001b[0m         \u001b[39mif\u001b[39;00m pix:\n\u001b[1;32m     <a href='vscode-notebook-cell://wsl%2Bubuntu/mnt/d/Work/Autoenc/hyperspectral-autoencoders-master/hyperspectral-autoencoders-master/autoenc_scratch/dimensenc-v1.ipynb#ch0000020vscode-remote?line=11'>12</a>\u001b[0m             \u001b[39m# Do stuff with byte.\u001b[39;00m\n\u001b[1;32m     <a href='vscode-notebook-cell://wsl%2Bubuntu/mnt/d/Work/Autoenc/hyperspectral-autoencoders-master/hyperspectral-autoencoders-master/autoenc_scratch/dimensenc-v1.ipynb#ch0000020vscode-remote?line=12'>13</a>\u001b[0m             val \u001b[39m=\u001b[39m struct\u001b[39m.\u001b[39munpack(\u001b[39m'\u001b[39m\u001b[39md\u001b[39m\u001b[39m'\u001b[39m,pix)\n",
      "\u001b[0;31mKeyboardInterrupt\u001b[0m: "
     ]
    }
   ],
   "source": [
    "tensordata=[]\n",
    "imgdata=[]\n",
    "for n in range(0,len(onlyfiles)):\n",
    "    with open(\"/mnt/d/Work/Dissertation/Preprocessing/VNIR-Field1/F01 (\"+str(n)+\")\", \"rb\") as f:\n",
    "        img = np.zeros((270,200,200))\n",
    "        simg = np.zeros((270,164,164))\n",
    "        for c in range(270):\n",
    "            for i in range(200):\n",
    "                for j in range(200):\n",
    "                    pix = f.read(8)\n",
    "                    if pix:\n",
    "                        # Do stuff with byte.\n",
    "                        val = struct.unpack('d',pix)\n",
    "                        #print(\"img[{},{},{}] = {:.3f} {} \".format(c,i,j,val[0],img[c,i,j]), end = '')\n",
    "                        img[c,i,j] = val[0]\n",
    "                        \n",
    "            im = Image.fromarray(img[c])\n",
    "            \n",
    "    \n",
    "    imgdata.append(img)\n",
    "big_images=np.array(imgdata)\n",
    "crop_images=big_images[:,:,0:164,0:164]\n",
    "del imgdata\n",
    "del big_images\n",
    "        "
   ]
  },
  {
   "cell_type": "code",
   "execution_count": null,
   "metadata": {},
   "outputs": [
    {
     "data": {
      "text/plain": [
       "0"
      ]
     },
     "execution_count": 2,
     "metadata": {},
     "output_type": "execute_result"
    }
   ],
   "source": [
    "T.cuda.memory_allocated()"
   ]
  },
  {
   "cell_type": "code",
   "execution_count": 3,
   "metadata": {},
   "outputs": [],
   "source": [
    "# -----------------------------------------------------------\n",
    "\n",
    "class UciDigitsDataset(T.utils.data.Dataset):\n",
    "  def __init__(self, src_file, num_rows=None):\n",
    "    # 0,5,12,13,16, . . (64 values),9(label/digit)\n",
    "    # 1797 items\n",
    "    tmp_x = np.loadtxt(src_file, max_rows=num_rows,\n",
    "      usecols=range(0,64), delimiter=\",\", skiprows=0,\n",
    "      dtype=np.float32)\n",
    "    tmp_x /= 16\n",
    "\n",
    "    tmp_y = np.loadtxt(src_file, max_rows=num_rows,\n",
    "      usecols=64, delimiter=\",\", skiprows=0,\n",
    "      dtype=np.int64)  # used for graph, not for training\n",
    "\n",
    "    self.x_data = T.tensor(tmp_x, dtype=T.float32)\n",
    "    self.y_data = T.tensor(tmp_y, dtype=T.int64) \n",
    "\n",
    "  def __len__(self):\n",
    "    return len(self.x_data)\n",
    "\n",
    "  def __getitem__(self, idx):\n",
    "    pixels = self.x_data[idx]\n",
    "    digit = self.y_data[idx] \n",
    "    sample = { 'pixels' : pixels, 'digit' : digit }\n",
    "    return sample\n",
    "\n"
   ]
  },
  {
   "cell_type": "code",
   "execution_count": 4,
   "metadata": {},
   "outputs": [],
   "source": [
    "# -----------------------------------------------------------\n",
    "\n",
    "class Net(T.nn.Module):\n",
    "  def __init__(self):\n",
    "    super(Net, self).__init__()\n",
    "    self.enc1 = T.nn.Linear(64, 16)  # 64-16-2-16-64\n",
    "    self.enc2 = T.nn.Linear(16, 8)\n",
    "    self.enc3 = T.nn.Linear(8, 2)\n",
    "    self.dec0 = T.nn.Linear(2, 8)\n",
    "    self.dec1 = T.nn.Linear(8, 16)\n",
    "    self.dec2 = T.nn.Linear(16, 64)\n",
    "  \n",
    "    T.nn.init.xavier_uniform_(self.enc1.weight)\n",
    "    T.nn.init.zeros_(self.enc1.bias)\n",
    "    T.nn.init.xavier_uniform_(self.enc2.weight)\n",
    "    T.nn.init.zeros_(self.enc2.bias)\n",
    "    T.nn.init.xavier_uniform_(self.dec1.weight)\n",
    "    T.nn.init.zeros_(self.dec1.bias)\n",
    "    T.nn.init.xavier_uniform_(self.dec2.weight)\n",
    "    T.nn.init.zeros_(self.dec2.bias)\n",
    "\n",
    "  def encode(self, x):\n",
    "    \n",
    "    z = T.relu(self.enc1(x))\n",
    "    z = T.tanh(self.enc2(z))\n",
    "    z = T.tanh(self.enc3(z))  # act depends on scenario\n",
    "    return z.to(device)\n",
    "\n",
    "  def decode(self, x):\n",
    "    z = T.tanh(self.dec0(x))\n",
    "    z = T.tanh(self.dec1(z))\n",
    "    z = self.dec2(z)  # no activation\n",
    "    return z   \n",
    "\n",
    "  def forward(self, x):\n",
    "    \n",
    "    z = self.encode(x)\n",
    "    z = self.decode(z)\n",
    "    return z\n",
    "\n"
   ]
  },
  {
   "cell_type": "code",
   "execution_count": 15,
   "metadata": {},
   "outputs": [
    {
     "ename": "NameError",
     "evalue": "name 'src_file' is not defined",
     "output_type": "error",
     "traceback": [
      "\u001b[0;31m---------------------------------------------------------------------------\u001b[0m",
      "\u001b[0;31mNameError\u001b[0m                                 Traceback (most recent call last)",
      "\u001b[1;32m/mnt/d/Work/Autoenc/hyperspectral-autoencoders-master/hyperspectral-autoencoders-master/autoenc_scratch/dimensenc-v1.ipynb Cell 8'\u001b[0m in \u001b[0;36m<cell line: 1>\u001b[0;34m()\u001b[0m\n\u001b[0;32m----> <a href='vscode-notebook-cell://wsl%2Bubuntu/mnt/d/Work/Autoenc/hyperspectral-autoencoders-master/hyperspectral-autoencoders-master/autoenc_scratch/dimensenc-v1.ipynb#ch0000004vscode-remote?line=0'>1</a>\u001b[0m src_file\n",
      "\u001b[0;31mNameError\u001b[0m: name 'src_file' is not defined"
     ]
    },
    {
     "ename": "",
     "evalue": "",
     "output_type": "error",
     "traceback": [
      "\u001b[1;31mThe Kernel crashed while executing code in the the current cell or a previous cell. Please review the code in the cell(s) to identify a possible cause of the failure. Click <a href='https://aka.ms/vscodeJupyterKernelCrash'>here</a> for more info. View Jupyter <a href='command:jupyter.viewOutput'>log</a> for further details."
     ]
    }
   ],
   "source": [
    "src_file"
   ]
  },
  {
   "cell_type": "code",
   "execution_count": 5,
   "metadata": {},
   "outputs": [
    {
     "name": "stdout",
     "output_type": "stream",
     "text": [
      "\n",
      "Begin UCI digits auto-reduce-viz demo job \n",
      "\n",
      "Creating UCI Digits Dataset \n",
      "\n",
      "Creating 64-16-2-16-63 autoencoder \n",
      "\n",
      "bat_size =  10 \n",
      "loss = MSELoss()\n",
      "optimizer = Adam\n",
      "max_epochs = 200 \n",
      "lrn_rate = 0.010 \n",
      "\n",
      "Starting training\n",
      "epoch =    0   loss = 12.3998\n",
      "epoch =   10   loss = 7.7727\n",
      "epoch =   20   loss = 7.4864\n",
      "epoch =   30   loss = 7.3632\n",
      "epoch =   40   loss = 7.3312\n",
      "epoch =   50   loss = 7.4203\n",
      "epoch =   60   loss = 7.1470\n",
      "epoch =   70   loss = 7.1170\n",
      "epoch =   80   loss = 7.1259\n",
      "epoch =   90   loss = 7.0497\n",
      "epoch =  100   loss = 7.0892\n",
      "epoch =  110   loss = 7.3824\n",
      "epoch =  120   loss = 7.1263\n",
      "epoch =  130   loss = 6.9955\n",
      "epoch =  140   loss = 6.9310\n",
      "epoch =  150   loss = 6.9178\n",
      "epoch =  160   loss = 6.8953\n",
      "epoch =  170   loss = 6.9048\n",
      "epoch =  180   loss = 6.7423\n",
      "epoch =  190   loss = 6.7518\n",
      "Done \n",
      "\n",
      "Creating graph from encoded data \n"
     ]
    },
    {
     "name": "stderr",
     "output_type": "stream",
     "text": [
      "/tmp/ipykernel_11244/3598323111.py:88: DeprecationWarning: `np.bool` is a deprecated alias for the builtin `bool`. To silence this warning, use `bool` by itself. Doing this will not modify any behavior and is safe. If you specifically wanted the numpy scalar type, use `np.bool_` here.\n",
      "Deprecated in NumPy 1.20; for more details and guidance: https://numpy.org/devdocs/release/1.20.0-notes.html#deprecations\n",
      "  rows = np.array(rows, dtype=np.bool)  # list to array\n"
     ]
    },
    {
     "data": {
      "image/png": "[encoded data removed]",
      "text/plain": [
       "<Figure size 432x288 with 1 Axes>"
      ]
     },
     "metadata": {
      "needs_background": "light"
     },
     "output_type": "display_data"
    },
    {
     "name": "stdout",
     "output_type": "stream",
     "text": [
      "\n",
      "End UCI digits auto-reduce-viz demo\n"
     ]
    }
   ],
   "source": [
    "# -----------------------------------------------------------\n",
    "\n",
    "def main():\n",
    "  # 0. setup\n",
    "  print(\"\\nBegin UCI digits auto-reduce-viz demo job \")\n",
    "  T.manual_seed(1)\n",
    "  np.random.seed(1)\n",
    "\n",
    "  # 1. create DataLoader object\n",
    "  print(\"\\nCreating UCI Digits Dataset \")\n",
    "\n",
    "  train_file = \"digits_uci_test_1797.txt\"\n",
    "  train_ds = UciDigitsDataset(train_file) # all 1797 rows\n",
    "  \n",
    "\n",
    "  bat_size = 10\n",
    "  train_ldr = T.utils.data.DataLoader(crop_images,\n",
    "    batch_size=bat_size, shuffle=True)\n",
    "\n",
    "  # 2. create network\n",
    "  print(\"\\nCreating 64-16-2-16-63 autoencoder \")\n",
    "  net = Net().to(\"cuda:0\")\n",
    "\n",
    "  # 3. train model\n",
    "  max_epochs = 200\n",
    "  ep_log_interval = 10\n",
    "  lrn_rate = 0.01\n",
    "\n",
    "  loss_func = T.nn.MSELoss()\n",
    "  optimizer = T.optim.Adam(net.parameters(), lr=lrn_rate)\n",
    "\n",
    "  print(\"\\nbat_size = %3d \" % bat_size)\n",
    "  print(\"loss = \" + str(loss_func))\n",
    "  print(\"optimizer = Adam\")\n",
    "  print(\"max_epochs = %3d \" % max_epochs)\n",
    "  print(\"lrn_rate = %0.3f \" % lrn_rate)\n",
    "\n",
    "  print(\"\\nStarting training\")\n",
    "  net = net.train()\n",
    "  for epoch in range(0, max_epochs):\n",
    "    epoch_loss = 0  # for one full epoch\n",
    "\n",
    "    for (batch_idx, batch) in enumerate(train_ldr):\n",
    "      X = batch['pixels'].to(device)  # no targets needed\n",
    "\n",
    "      optimizer.zero_grad()\n",
    "      oupt = net(X)\n",
    "      loss_obj = loss_func(oupt, X)  # note: X not Y\n",
    "      epoch_loss += loss_obj.item()  # accumulate\n",
    "      loss_obj.backward()\n",
    "      optimizer.step()\n",
    "\n",
    "    if epoch % ep_log_interval == 0:\n",
    "      print(\"epoch = %4d   loss = %0.4f\" % (epoch, epoch_loss))\n",
    "  print(\"Done \")\n",
    "\n",
    "  # 4. plot digits using reduced form\n",
    "  print(\"\\nCreating graph from encoded data \")\n",
    "  net = net.eval()\n",
    "  \n",
    "  with T.no_grad():\n",
    "    bow=train_ds[:]['pixels']\n",
    "    bow=crop_images.to(device)\n",
    "    xy = net.encode(bow)  # (1797,2)\n",
    "  lbls = train_ds[:]['digit']  # (1797,)\n",
    "  lbls=lbls.to(device)\n",
    "  xy = xy.to(\"cpu\").detach().numpy()      # tensors to numpy arrays\n",
    "  lbls = lbls.to(\"cpu\").detach().numpy()\n",
    "  \n",
    "  \n",
    "\n",
    "  fig, ax = plt.subplots()\n",
    "  colors = ['red', 'blue', 'green', 'yellow', 'orange',\n",
    "            'black', 'brown', 'purple', 'silver', 'pink']\n",
    "  digits = [' 0 ', ' 1 ', ' 2 ', ' 3 ', ' 4 ',\n",
    "            ' 5 ', ' 6 ', ' 7 ', ' 8 ', ' 9 ']\n",
    "\n",
    "  # process by each color/class\n",
    "  for i in range(len(colors)):  # 0 to 9 each color\n",
    "    color = colors[i]\n",
    "    rows = []                   # select rows for curr color\n",
    "    for j in range(len(xy)):    # 0 to 1796\n",
    "      if lbls[j] == i:\n",
    "        rows.append(True)       # to extract rows, must use bool\n",
    "      else:\n",
    "        rows.append(False)\n",
    "\n",
    "    rows = np.array(rows, dtype=np.bool)  # list to array\n",
    "    selected = xy[rows,:]                 # like (178,2)\n",
    "\n",
    "    x = selected[:,0]  # like (178,)\n",
    "    y = selected[:,1]\n",
    "    scatter  = ax.scatter(x, y, c=color, s=20, alpha=0.9)\n",
    "    # and continue on to next color/class\n",
    "\n",
    "  txt = \"\\n\" + \"0=red \\n\" + \"1=blue \\n\" + \"2=green \\n\" + \\\n",
    "    \"3=yellow \\n\" + \"4=orange \\n\" + \"5=black \\n\" + \\\n",
    "    \"6=brown \\n\" + \"7=purple \\n\" + \"8=silver \\n\" + \"9=pink \\n\"\n",
    "\n",
    "  props = dict(boxstyle='round', facecolor='wheat', alpha=0.95)\n",
    "  ax.text(0.95, 0.95, txt, transform=ax.transAxes, fontsize=8,\n",
    "    verticalalignment='top', bbox=props)\n",
    "  ax.grid(True)\n",
    "  plt.xlabel('component 1')\n",
    "  plt.ylabel('component 2')\n",
    "  plt.show()\n",
    "\n",
    "  print(\"\\nEnd UCI digits auto-reduce-viz demo\")\n",
    "\n",
    "if __name__ == \"__main__\":\n",
    "  main()"
   ]
  },
  {
   "cell_type": "code",
   "execution_count": null,
   "metadata": {},
   "outputs": [],
   "source": [
    "bow"
   ]
  },
  {
   "cell_type": "code",
   "execution_count": 14,
   "metadata": {},
   "outputs": [
    {
     "data": {
      "text/plain": [
       "<__main__.UciDigitsDataset at 0x7f47986f0910>"
      ]
     },
     "execution_count": 14,
     "metadata": {},
     "output_type": "execute_result"
    }
   ],
   "source": [
    "train_ds"
   ]
  },
  {
   "cell_type": "code",
   "execution_count": 13,
   "metadata": {},
   "outputs": [],
   "source": [
    "train_file = \"digits_uci_test_1797.txt\"\n",
    "train_ds = UciDigitsDataset(train_file)"
   ]
  },
  {
   "cell_type": "code",
   "execution_count": null,
   "metadata": {},
   "outputs": [
    {
     "ename": "AttributeError",
     "evalue": "'function' object has no attribute 'lbls'",
     "output_type": "error",
     "traceback": [
      "\u001b[1;31m---------------------------------------------------------------------------\u001b[0m",
      "\u001b[1;31mAttributeError\u001b[0m                            Traceback (most recent call last)",
      "\u001b[1;32md:\\Work\\Autoenc\\hyperspectral-autoencoders-master\\hyperspectral-autoencoders-master\\autoenc_scratch\\dimensenc.ipynb Cell 10'\u001b[0m in \u001b[0;36m<cell line: 1>\u001b[1;34m()\u001b[0m\n\u001b[1;32m----> <a href='vscode-notebook-cell:/d%3A/Work/Autoenc/hyperspectral-autoencoders-master/hyperspectral-autoencoders-master/autoenc_scratch/dimensenc.ipynb#ch0000009?line=0'>1</a>\u001b[0m main\u001b[39m.\u001b[39;49mlbls\n",
      "\u001b[1;31mAttributeError\u001b[0m: 'function' object has no attribute 'lbls'"
     ]
    }
   ],
   "source": [
    "main.lbls"
   ]
  },
  {
   "cell_type": "code",
   "execution_count": null,
   "metadata": {},
   "outputs": [
    {
     "name": "stdout",
     "output_type": "stream",
     "text": [
      "\n",
      "Begin UCI digits auto-reduce-viz demo job \n",
      "\n",
      "Creating UCI Digits Dataset \n",
      "\n",
      "Creating 64-16-2-16-63 autoencoder \n",
      "\n",
      "bat_size =  10 \n",
      "loss = MSELoss()\n",
      "optimizer = Adam\n",
      "max_epochs = 200 \n",
      "lrn_rate = 0.010 \n",
      "\n",
      "Starting training\n",
      "epoch =    0   loss = 12.8925\n",
      "epoch =   10   loss = 9.6286\n",
      "epoch =   20   loss = 9.5646\n",
      "epoch =   30   loss = 9.5787\n",
      "epoch =   40   loss = 9.5534\n",
      "epoch =   50   loss = 9.5522\n",
      "epoch =   60   loss = 9.5734\n",
      "epoch =   70   loss = 9.5510\n",
      "epoch =   80   loss = 9.5390\n",
      "epoch =   90   loss = 9.5537\n",
      "epoch =  100   loss = 9.5416\n",
      "epoch =  110   loss = 9.5543\n",
      "epoch =  120   loss = 9.5289\n",
      "epoch =  130   loss = 9.5342\n",
      "epoch =  140   loss = 9.5596\n",
      "epoch =  150   loss = 9.5455\n",
      "epoch =  160   loss = 9.5462\n",
      "epoch =  170   loss = 9.5367\n",
      "epoch =  180   loss = 9.5306\n",
      "epoch =  190   loss = 9.5236\n",
      "Done \n",
      "\n",
      "Creating graph from encoded data \n"
     ]
    },
    {
     "name": "stderr",
     "output_type": "stream",
     "text": [
      "C:\\Users\\naras\\AppData\\Local\\Temp\\ipykernel_22272\\3634218673.py:88: DeprecationWarning: `np.bool` is a deprecated alias for the builtin `bool`. To silence this warning, use `bool` by itself. Doing this will not modify any behavior and is safe. If you specifically wanted the numpy scalar type, use `np.bool_` here.\n",
      "Deprecated in NumPy 1.20; for more details and guidance: https://numpy.org/devdocs/release/1.20.0-notes.html#deprecations\n",
      "  rows = np.array(rows, dtype=np.bool)  # list to array\n"
     ]
    },
    {
     "data": {
      "image/png": "[encoded data removed]",
      "text/plain": [
       "<Figure size 432x288 with 1 Axes>"
      ]
     },
     "metadata": {
      "needs_background": "light"
     },
     "output_type": "display_data"
    },
    {
     "name": "stdout",
     "output_type": "stream",
     "text": [
      "\n",
      "End UCI digits auto-reduce-viz demo\n"
     ]
    }
   ],
   "source": [
    "# -----------------------------------------------------------\n",
    "\n",
    "\n",
    "# 0. setup\n",
    "print(\"\\nBegin UCI digits auto-reduce-viz demo job \")\n",
    "T.manual_seed(1)\n",
    "np.random.seed(1)\n",
    "\n",
    "# 1. create DataLoader object\n",
    "print(\"\\nCreating UCI Digits Dataset \")\n",
    "\n",
    "train_file = \"digits_uci_test_1797.txt\"\n",
    "train_ds = UciDigitsDataset(train_file) # all 1797 rows\n",
    "\n",
    "\n",
    "bat_size = 10\n",
    "train_ldr = T.utils.data.DataLoader(train_ds,\n",
    "batch_size=bat_size, shuffle=True)\n",
    "\n",
    "# 2. create network\n",
    "print(\"\\nCreating 64-16-2-16-63 autoencoder \")\n",
    "net = Net().to(\"cuda:0\")\n",
    "\n",
    "# 3. train model\n",
    "max_epochs = 200\n",
    "ep_log_interval = 10\n",
    "lrn_rate = 0.01\n",
    "\n",
    "loss_func = T.nn.MSELoss()\n",
    "optimizer = T.optim.Adam(net.parameters(), lr=lrn_rate)\n",
    "\n",
    "print(\"\\nbat_size = %3d \" % bat_size)\n",
    "print(\"loss = \" + str(loss_func))\n",
    "print(\"optimizer = Adam\")\n",
    "print(\"max_epochs = %3d \" % max_epochs)\n",
    "print(\"lrn_rate = %0.3f \" % lrn_rate)\n",
    "\n",
    "print(\"\\nStarting training\")\n",
    "net = net.train()\n",
    "for epoch in range(0, max_epochs):\n",
    "    epoch_loss = 0  # for one full epoch\n",
    "\n",
    "    for (batch_idx, batch) in enumerate(train_ldr):\n",
    "        X = batch['pixels'].to(device)  # no targets needed\n",
    "\n",
    "        optimizer.zero_grad()\n",
    "        oupt = net(X)\n",
    "        loss_obj = loss_func(oupt, X)  # note: X not Y\n",
    "        epoch_loss += loss_obj.item()  # accumulate\n",
    "        loss_obj.backward()\n",
    "        optimizer.step()\n",
    "\n",
    "    if epoch % ep_log_interval == 0:\n",
    "        print(\"epoch = %4d   loss = %0.4f\" % (epoch, epoch_loss))\n",
    "print(\"Done \")\n",
    "\n",
    "# 4. plot digits using reduced form\n",
    "print(\"\\nCreating graph from encoded data \")\n",
    "net = net.eval()\n",
    "\n",
    "with T.no_grad():\n",
    "    bow=train_ds[:]['pixels']\n",
    "    bow=bow.to(device)\n",
    "    xy = net.encode(bow)  # (1797,2)\n",
    "    lbls = train_ds[:]['digit']  # (1797,)\n",
    "    lbls=lbls.to(device)\n",
    "    xy = xy.to(\"cpu\").detach().numpy()      # tensors to numpy arrays\n",
    "    lbls = lbls.to(\"cpu\").detach().numpy()\n",
    "\n",
    "\n",
    "\n",
    "fig, ax = plt.subplots()\n",
    "colors = ['red', 'blue', 'green', 'yellow', 'orange',\n",
    "        'black', 'brown', 'purple', 'silver', 'pink']\n",
    "digits = [' 0 ', ' 1 ', ' 2 ', ' 3 ', ' 4 ',\n",
    "        ' 5 ', ' 6 ', ' 7 ', ' 8 ', ' 9 ']\n",
    "\n",
    "# process by each color/class\n",
    "for i in range(len(colors)):  # 0 to 9 each color\n",
    "    color = colors[i]\n",
    "rows = []                   # select rows for curr color\n",
    "for j in range(len(xy)):    # 0 to 1796\n",
    "    if lbls[j] == i:\n",
    "        rows.append(True)       # to extract rows, must use bool\n",
    "    else:\n",
    "        rows.append(False)\n",
    "\n",
    "rows = np.array(rows, dtype=np.bool)  # list to array\n",
    "selected = xy[rows,:]                 # like (178,2)\n",
    "\n",
    "x = selected[:,0]  # like (178,)\n",
    "y = selected[:,1]\n",
    "scatter  = ax.scatter(x, y, c=color, s=20, alpha=0.9)\n",
    "# and continue on to next color/class\n",
    "\n",
    "txt = \"\\n\" + \"0=red \\n\" + \"1=blue \\n\" + \"2=green \\n\" + \\\n",
    "\"3=yellow \\n\" + \"4=orange \\n\" + \"5=black \\n\" + \\\n",
    "\"6=brown \\n\" + \"7=purple \\n\" + \"8=silver \\n\" + \"9=pink \\n\"\n",
    "\n",
    "props = dict(boxstyle='round', facecolor='wheat', alpha=0.95)\n",
    "ax.text(0.95, 0.95, txt, transform=ax.transAxes, fontsize=8,\n",
    "verticalalignment='top', bbox=props)\n",
    "ax.grid(True)\n",
    "plt.xlabel('component 1')\n",
    "plt.ylabel('component 2')\n",
    "plt.show()\n",
    "\n",
    "print(\"\\nEnd UCI digits auto-reduce-viz demo\")\n"
   ]
  },
  {
   "cell_type": "code",
   "execution_count": null,
   "metadata": {},
   "outputs": [
    {
     "data": {
      "text/plain": [
       "(1797,)"
      ]
     },
     "execution_count": 51,
     "metadata": {},
     "output_type": "execute_result"
    }
   ],
   "source": [
    "lbls.shape"
   ]
  },
  {
   "cell_type": "code",
   "execution_count": null,
   "metadata": {},
   "outputs": [
    {
     "data": {
      "text/plain": [
       "array([0, 1, 2, ..., 8, 9, 8], dtype=int64)"
      ]
     },
     "execution_count": 52,
     "metadata": {},
     "output_type": "execute_result"
    }
   ],
   "source": [
    "lbls"
   ]
  },
  {
   "cell_type": "code",
   "execution_count": null,
   "metadata": {},
   "outputs": [
    {
     "data": {
      "text/plain": [
       "array([[-0.33565748, -0.47481167],\n",
       "       [ 0.19041975,  0.4055456 ],\n",
       "       [ 0.03710113,  0.21429588],\n",
       "       ...,\n",
       "       [-0.05721175,  0.2128464 ],\n",
       "       [-0.12599765, -0.35841206],\n",
       "       [-0.09402857, -0.17140493]], dtype=float32)"
      ]
     },
     "execution_count": 53,
     "metadata": {},
     "output_type": "execute_result"
    }
   ],
   "source": [
    "xy"
   ]
  },
  {
   "cell_type": "code",
   "execution_count": null,
   "metadata": {},
   "outputs": [
    {
     "data": {
      "text/plain": [
       "<matplotlib.collections.PathCollection at 0x2c33fb4a140>"
      ]
     },
     "execution_count": 60,
     "metadata": {},
     "output_type": "execute_result"
    },
    {
     "data": {
      "image/png": "[encoded data removed]",
      "text/plain": [
       "<Figure size 432x288 with 1 Axes>"
      ]
     },
     "metadata": {
      "needs_background": "light"
     },
     "output_type": "display_data"
    }
   ],
   "source": [
    "plt.scatter(xy[:,0],xy[:,1])"
   ]
  },
  {
   "cell_type": "code",
   "execution_count": null,
   "metadata": {},
   "outputs": [
    {
     "data": {
      "text/plain": [
       "(1797,)"
      ]
     },
     "execution_count": 59,
     "metadata": {},
     "output_type": "execute_result"
    }
   ],
   "source": [
    "xy[:,0].shape"
   ]
  },
  {
   "cell_type": "code",
   "execution_count": null,
   "metadata": {},
   "outputs": [
    {
     "data": {
      "text/plain": [
       "(1797,)"
      ]
     },
     "metadata": {},
     "output_type": "display_data"
    }
   ],
   "source": [
    "xy[:,0].shape"
   ]
  },
  {
   "cell_type": "code",
   "execution_count": null,
   "metadata": {},
   "outputs": [],
   "source": []
  }
 ],
 "metadata": {
  "interpreter": {
   "hash": "31f2aee4e71d21fbe5cf8b01ff0e069b9275f58929596ceb00d14d90e3e16cd6"
  },
  "kernelspec": {
   "display_name": "Python 3.8.10 64-bit",
   "language": "python",
   "name": "python3"
  },
  "language_info": {
   "codemirror_mode": {
    "name": "ipython",
    "version": 3
   },
   "file_extension": ".py",
   "mimetype": "text/x-python",
   "name": "python",
   "nbconvert_exporter": "python",
   "pygments_lexer": "ipython3",
   "version": "3.8.10"
  },
  "orig_nbformat": 4
 },
 "nbformat": 4,
 "nbformat_minor": 2
}
